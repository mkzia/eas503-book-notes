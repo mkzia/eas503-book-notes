{
 "cells": [
  {
   "cell_type": "code",
   "execution_count": 36,
   "id": "14440206",
   "metadata": {},
   "outputs": [
    {
     "name": "stdout",
     "output_type": "stream",
     "text": [
      "+---------------------------------------------------+\n",
      "|               Cereal Yields (kg/ha)               |\n",
      "+---------------+--------+--------+--------+--------+\n",
      "|    Country    |  1980  |  1990  |  2000  |  2010  |\n",
      "+---------------+--------+--------+--------+--------+\n",
      "| China         |  2,937 |  4,321 |  4,752 |  5,527 |\n",
      "| Germany       |  4,225 |  5,411 |  6,453 |  6,718 |\n",
      "| United States |  3,772 |  4,755 |  5,854 |  6,988 |\n",
      "+---------------+--------+--------+--------+--------+\n"
     ]
    }
   ],
   "source": [
    "title = '|' + '{:^51}'.format('Cereal Yields (kg/ha)') + '|'\n",
    "line = '+' + '-'*15 + '+' + ('-'*8 + '+')*4\n",
    "row = '| {:<13} |' + ' {:6,d} |'*4\n",
    "header = '| {:^13s} |'.format('Country') + (' {:^6d} |'*4).format(1980, 1990,\n",
    "                                                                  2000, 2010)\n",
    "print('+' + '-'*(len(title)-2) + '+',\n",
    "      title,\n",
    "      line,\n",
    "      header,\n",
    "      line,\n",
    "      row.format('China', 2937, 4321, 4752, 5527),\n",
    "      row.format('Germany', 4225, 5411, 6453, 6718),\n",
    "      row.format('United States', 3772, 4755, 5854, 6988),\n",
    "      line,\n",
    "      sep='\\n')"
   ]
  },
  {
   "cell_type": "code",
   "execution_count": 2,
   "id": "add8901d",
   "metadata": {},
   "outputs": [],
   "source": [
    "title = '|' + '{:^51}'.format('Cereal Yields (kg/ha)') + '|'"
   ]
  },
  {
   "cell_type": "code",
   "execution_count": 3,
   "id": "792f23f1",
   "metadata": {},
   "outputs": [
    {
     "name": "stdout",
     "output_type": "stream",
     "text": [
      "|               Cereal Yields (kg/ha)               |\n"
     ]
    }
   ],
   "source": [
    "print(title)"
   ]
  },
  {
   "cell_type": "code",
   "execution_count": 4,
   "id": "5ac7c7a3",
   "metadata": {},
   "outputs": [
    {
     "data": {
      "text/plain": [
       "'               Cereal Yields (kg/ha)               '"
      ]
     },
     "execution_count": 4,
     "metadata": {},
     "output_type": "execute_result"
    }
   ],
   "source": [
    "'{:^51}'.format('Cereal Yields (kg/ha)')"
   ]
  },
  {
   "cell_type": "code",
   "execution_count": 7,
   "id": "0ff992de",
   "metadata": {},
   "outputs": [
    {
     "name": "stdout",
     "output_type": "stream",
     "text": [
      "|               Cereal Yields (kg/ha)               |\n"
     ]
    }
   ],
   "source": [
    "print(f'|{\"Cereal Yields (kg/ha)\":^51}|')"
   ]
  },
  {
   "cell_type": "code",
   "execution_count": 8,
   "id": "e757cc25",
   "metadata": {},
   "outputs": [
    {
     "name": "stdout",
     "output_type": "stream",
     "text": [
      "|               Cereal Yields (kg/ha)               |\n"
     ]
    }
   ],
   "source": [
    "title = \"Cereal Yields (kg/ha)\"\n",
    "print(f'|{title:^51}|')"
   ]
  },
  {
   "cell_type": "code",
   "execution_count": 9,
   "id": "724c4462",
   "metadata": {},
   "outputs": [
    {
     "data": {
      "text/plain": [
       "'|               Cereal Yields (kg/ha)               |'"
      ]
     },
     "execution_count": 9,
     "metadata": {},
     "output_type": "execute_result"
    }
   ],
   "source": [
    "def create_title(title):\n",
    "    return f'|{title:^51}|'\n",
    "\n",
    "create_title(title)"
   ]
  },
  {
   "cell_type": "code",
   "execution_count": 10,
   "id": "25f5886a",
   "metadata": {},
   "outputs": [
    {
     "data": {
      "text/plain": [
       "'|                  Create a Table                   |'"
      ]
     },
     "execution_count": 10,
     "metadata": {},
     "output_type": "execute_result"
    }
   ],
   "source": [
    "create_title('Create a Table')"
   ]
  },
  {
   "cell_type": "code",
   "execution_count": null,
   "id": "b6d4e5e8",
   "metadata": {},
   "outputs": [],
   "source": [
    "line = '+' + '-'*15 + '+' + ('-'*8 + '+')*4\n"
   ]
  },
  {
   "cell_type": "code",
   "execution_count": 12,
   "id": "c0c9aeff",
   "metadata": {},
   "outputs": [
    {
     "data": {
      "text/plain": [
       "'+---------------+'"
      ]
     },
     "execution_count": 12,
     "metadata": {},
     "output_type": "execute_result"
    }
   ],
   "source": [
    "'+' + '-'*15 + '+'"
   ]
  },
  {
   "cell_type": "code",
   "execution_count": 13,
   "id": "b92ce53f",
   "metadata": {},
   "outputs": [
    {
     "data": {
      "text/plain": [
       "'--------+'"
      ]
     },
     "execution_count": 13,
     "metadata": {},
     "output_type": "execute_result"
    }
   ],
   "source": [
    "'-'*8 + '+'"
   ]
  },
  {
   "cell_type": "code",
   "execution_count": 14,
   "id": "5d7d1431",
   "metadata": {},
   "outputs": [
    {
     "data": {
      "text/plain": [
       "'--------+--------+--------+--------+'"
      ]
     },
     "execution_count": 14,
     "metadata": {},
     "output_type": "execute_result"
    }
   ],
   "source": [
    "('-'*8 + '+')*4"
   ]
  },
  {
   "cell_type": "code",
   "execution_count": 15,
   "id": "1087769b",
   "metadata": {},
   "outputs": [
    {
     "name": "stdout",
     "output_type": "stream",
     "text": [
      "+---------------+--------+--------+--------+--------+\n"
     ]
    }
   ],
   "source": [
    "line = '+' + '-'*15 + '+' + ('-'*8 + '+')*4\n",
    "print(line)"
   ]
  },
  {
   "cell_type": "code",
   "execution_count": 19,
   "id": "5c221d48",
   "metadata": {},
   "outputs": [
    {
     "name": "stdout",
     "output_type": "stream",
     "text": [
      "+---------------+--------+--------+--------+--------+\n",
      "|               Cereal Yields (kg/ha)               |\n",
      "+---------------+--------+--------+--------+--------+\n"
     ]
    }
   ],
   "source": [
    "title = '|' + '{:^51}'.format('Cereal Yields (kg/ha)') + '|'\n",
    "print(line, title, line, sep='\\n')"
   ]
  },
  {
   "cell_type": "code",
   "execution_count": 20,
   "id": "512ed9ad",
   "metadata": {},
   "outputs": [
    {
     "name": "stdout",
     "output_type": "stream",
     "text": [
      "+---------------------------------------------------+\n"
     ]
    }
   ],
   "source": [
    "top = '+' + '-'*(len(title)-2) + '+'\n",
    "print(top)\n"
   ]
  },
  {
   "cell_type": "code",
   "execution_count": 21,
   "id": "7a5f5b5d",
   "metadata": {},
   "outputs": [
    {
     "name": "stdout",
     "output_type": "stream",
     "text": [
      "+---------------------------------------------------+\n",
      "|               Cereal Yields (kg/ha)               |\n",
      "+---------------+--------+--------+--------+--------+\n"
     ]
    }
   ],
   "source": [
    "print(top, title, line, sep='\\n')"
   ]
  },
  {
   "cell_type": "code",
   "execution_count": null,
   "id": "e42db10f",
   "metadata": {},
   "outputs": [],
   "source": [
    "header = '| {:^13s} |'.format('Country') + (' {:^6d} |'*4).format(1980, 1990, 2000, 2010)"
   ]
  },
  {
   "cell_type": "code",
   "execution_count": 22,
   "id": "917a4878",
   "metadata": {},
   "outputs": [
    {
     "data": {
      "text/plain": [
       "'|    Country    |'"
      ]
     },
     "execution_count": 22,
     "metadata": {},
     "output_type": "execute_result"
    }
   ],
   "source": [
    "'| {:^13s} |'.format('Country')"
   ]
  },
  {
   "cell_type": "code",
   "execution_count": 23,
   "id": "a909a37c",
   "metadata": {},
   "outputs": [
    {
     "data": {
      "text/plain": [
       "' {:^6d} |'"
      ]
     },
     "execution_count": 23,
     "metadata": {},
     "output_type": "execute_result"
    }
   ],
   "source": [
    "' {:^6d} |'"
   ]
  },
  {
   "cell_type": "code",
   "execution_count": 24,
   "id": "6c4ee4b3",
   "metadata": {},
   "outputs": [],
   "source": [
    "template = ' {:^6d} |'"
   ]
  },
  {
   "cell_type": "code",
   "execution_count": 25,
   "id": "3acd8f28",
   "metadata": {},
   "outputs": [
    {
     "name": "stdout",
     "output_type": "stream",
     "text": [
      " {:^6d} |\n"
     ]
    }
   ],
   "source": [
    "print(template)"
   ]
  },
  {
   "cell_type": "code",
   "execution_count": 26,
   "id": "b8dc2ad4",
   "metadata": {},
   "outputs": [
    {
     "name": "stdout",
     "output_type": "stream",
     "text": [
      " {:^6d} | {:^6d} | {:^6d} | {:^6d} |\n"
     ]
    }
   ],
   "source": [
    "template = ' {:^6d} |' * 4\n",
    "print(template)"
   ]
  },
  {
   "cell_type": "code",
   "execution_count": 27,
   "id": "e35112c3",
   "metadata": {},
   "outputs": [
    {
     "data": {
      "text/plain": [
       "'  1980  |  1990  |  2000  |  2010  |'"
      ]
     },
     "execution_count": 27,
     "metadata": {},
     "output_type": "execute_result"
    }
   ],
   "source": [
    "template.format(1980, 1990, 2000, 2010)"
   ]
  },
  {
   "cell_type": "code",
   "execution_count": 28,
   "id": "59400c14",
   "metadata": {},
   "outputs": [
    {
     "data": {
      "text/plain": [
       "'|    Country    |  1980  |  1990  |  2000  |  2010  |'"
      ]
     },
     "execution_count": 28,
     "metadata": {},
     "output_type": "execute_result"
    }
   ],
   "source": [
    "header"
   ]
  },
  {
   "cell_type": "code",
   "execution_count": 29,
   "id": "a91156de",
   "metadata": {},
   "outputs": [
    {
     "data": {
      "text/plain": [
       "'  9999  |  1230  |  4455  |  1901  |'"
      ]
     },
     "execution_count": 29,
     "metadata": {},
     "output_type": "execute_result"
    }
   ],
   "source": [
    "template.format(9999, 1230, 4455, 1901)"
   ]
  },
  {
   "cell_type": "code",
   "execution_count": 33,
   "id": "ad2304fb",
   "metadata": {},
   "outputs": [],
   "source": [
    "row = '| {:<13} |' + ' {:6,d} |'*4"
   ]
  },
  {
   "cell_type": "code",
   "execution_count": 34,
   "id": "47d7e53a",
   "metadata": {},
   "outputs": [
    {
     "data": {
      "text/plain": [
       "'| {:<13} | {:6,d} | {:6,d} | {:6,d} | {:6,d} |'"
      ]
     },
     "execution_count": 34,
     "metadata": {},
     "output_type": "execute_result"
    }
   ],
   "source": [
    "row"
   ]
  },
  {
   "cell_type": "code",
   "execution_count": 35,
   "id": "a76add86",
   "metadata": {},
   "outputs": [
    {
     "data": {
      "text/plain": [
       "'| USA           |  9,999 |  1,230 |  4,455 |  1,901 |'"
      ]
     },
     "execution_count": 35,
     "metadata": {},
     "output_type": "execute_result"
    }
   ],
   "source": [
    "row.format('USA', 9999, 1230, 4455, 1901)"
   ]
  },
  {
   "cell_type": "code",
   "execution_count": null,
   "id": "46cac582",
   "metadata": {},
   "outputs": [],
   "source": [
    "with open('test_file.txt', 'w') as file:\n",
    "    file.write('line1\\nline2')\n",
    "# ==> the file will be closed!!!  \n",
    "# if the file already exists and you open it up in 'w' -- write mode, it will be deleted; \n",
    "# if you want to append, open in 'a' mode"
   ]
  },
  {
   "cell_type": "code",
   "execution_count": 38,
   "id": "1612da0b",
   "metadata": {},
   "outputs": [],
   "source": [
    "file = open('test_file.txt', 'w')\n",
    "file.write('line1\\nline2')\n",
    "file.close()"
   ]
  },
  {
   "cell_type": "code",
   "execution_count": 39,
   "id": "35ddef3c",
   "metadata": {},
   "outputs": [],
   "source": [
    "with open('test_file.txt', 'w') as file:\n",
    "    file.write('line1\\nline2')"
   ]
  },
  {
   "cell_type": "code",
   "execution_count": 40,
   "id": "bb6c1f33",
   "metadata": {},
   "outputs": [
    {
     "data": {
      "text/plain": [
       "'1900192419501990'"
      ]
     },
     "execution_count": 40,
     "metadata": {},
     "output_type": "execute_result"
    }
   ],
   "source": [
    "years = ('1900', '1924', '1950', '1990')\n",
    "\n",
    "''.join((years))"
   ]
  },
  {
   "cell_type": "code",
   "execution_count": 41,
   "id": "9274b047",
   "metadata": {},
   "outputs": [
    {
     "data": {
      "text/plain": [
       "'1900-1924-1950-1990'"
      ]
     },
     "execution_count": 41,
     "metadata": {},
     "output_type": "execute_result"
    }
   ],
   "source": [
    "'-'.join((years))"
   ]
  },
  {
   "cell_type": "code",
   "execution_count": 43,
   "id": "9604c1e4",
   "metadata": {},
   "outputs": [
    {
     "name": "stdout",
     "output_type": "stream",
     "text": [
      "1900\n",
      "1924\n",
      "1950\n",
      "1990\n"
     ]
    }
   ],
   "source": [
    "print('\\n'.join((years)))"
   ]
  },
  {
   "cell_type": "code",
   "execution_count": 44,
   "id": "03719d47",
   "metadata": {},
   "outputs": [],
   "source": [
    "title = '|' + '{:^51}'.format('Cereal Yields (kg/ha)') + '|'\n",
    "line = '+' + '-'*15 + '+' + ('-'*8 + '+')*4\n",
    "row = '| {:<13} |' + ' {:6,d} |'*4\n",
    "header = '| {:^13s} |'.format('Country') + (' {:^6d} |'*4).format(1980, 1990,\n",
    "                                                                  2000, 2010)\n",
    "file_content = '\\n'.join(('+' + '-'*(len(title)-2) + '+',\n",
    "      title,\n",
    "      line,\n",
    "      header,\n",
    "      line,\n",
    "      row.format('China', 2937, 4321, 4752, 5527),\n",
    "      row.format('Germany', 4225, 5411, 6453, 6718),\n",
    "      row.format('United States', 3772, 4755, 5854, 6988),\n",
    "      line))"
   ]
  },
  {
   "cell_type": "code",
   "execution_count": 45,
   "id": "dc1a47d0",
   "metadata": {},
   "outputs": [
    {
     "name": "stdout",
     "output_type": "stream",
     "text": [
      "+---------------------------------------------------+\n",
      "|               Cereal Yields (kg/ha)               |\n",
      "+---------------+--------+--------+--------+--------+\n",
      "|    Country    |  1980  |  1990  |  2000  |  2010  |\n",
      "+---------------+--------+--------+--------+--------+\n",
      "| China         |  2,937 |  4,321 |  4,752 |  5,527 |\n",
      "| Germany       |  4,225 |  5,411 |  6,453 |  6,718 |\n",
      "| United States |  3,772 |  4,755 |  5,854 |  6,988 |\n",
      "+---------------+--------+--------+--------+--------+\n"
     ]
    }
   ],
   "source": [
    "print(file_content)"
   ]
  },
  {
   "cell_type": "code",
   "execution_count": 46,
   "id": "90df778a",
   "metadata": {},
   "outputs": [],
   "source": [
    "with open('test_file2.txt', 'w') as file:\n",
    "    file.write(file_content)"
   ]
  },
  {
   "cell_type": "code",
   "execution_count": 47,
   "id": "fd715aaa",
   "metadata": {},
   "outputs": [
    {
     "data": {
      "text/plain": [
       "'ab'"
      ]
     },
     "execution_count": 47,
     "metadata": {},
     "output_type": "execute_result"
    }
   ],
   "source": [
    "'a' + 'b'"
   ]
  },
  {
   "cell_type": "code",
   "execution_count": 48,
   "id": "15d3b3a6",
   "metadata": {},
   "outputs": [
    {
     "data": {
      "text/plain": [
       "'new_string'"
      ]
     },
     "execution_count": 48,
     "metadata": {},
     "output_type": "execute_result"
    }
   ],
   "source": [
    "'new_string'"
   ]
  },
  {
   "cell_type": "code",
   "execution_count": null,
   "id": "00bb035e",
   "metadata": {},
   "outputs": [],
   "source": []
  }
 ],
 "metadata": {
  "kernelspec": {
   "display_name": "Python 3 (ipykernel)",
   "language": "python",
   "name": "python3"
  },
  "language_info": {
   "codemirror_mode": {
    "name": "ipython",
    "version": 3
   },
   "file_extension": ".py",
   "mimetype": "text/x-python",
   "name": "python",
   "nbconvert_exporter": "python",
   "pygments_lexer": "ipython3",
   "version": "3.8.16"
  }
 },
 "nbformat": 4,
 "nbformat_minor": 5
}
