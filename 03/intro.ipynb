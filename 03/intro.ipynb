{
 "cells": [
  {
   "cell_type": "code",
   "execution_count": 1,
   "id": "117f1530",
   "metadata": {},
   "outputs": [
    {
     "data": {
      "text/plain": [
       "'Aristotle'"
      ]
     },
     "execution_count": 1,
     "metadata": {},
     "output_type": "execute_result"
    }
   ],
   "source": [
    "'Aristotle'"
   ]
  },
  {
   "cell_type": "code",
   "execution_count": 2,
   "id": "4bf9f1c9",
   "metadata": {},
   "outputs": [
    {
     "data": {
      "text/plain": [
       "'Aristotle'"
      ]
     },
     "execution_count": 2,
     "metadata": {},
     "output_type": "execute_result"
    }
   ],
   "source": [
    "\"Aristotle\""
   ]
  },
  {
   "cell_type": "code",
   "execution_count": 8,
   "id": "2dd531e5",
   "metadata": {},
   "outputs": [
    {
     "name": "stdout",
     "output_type": "stream",
     "text": [
      "Should you want a string\n",
      "    that crosses         multiple lines,\n",
      "    Use matched triple quotes.\n"
     ]
    }
   ],
   "source": [
    "print('''Should you want a string\n",
    "    that crosses         multiple lines,\n",
    "    Use matched triple quotes.''')"
   ]
  },
  {
   "cell_type": "code",
   "execution_count": 7,
   "id": "3500af10",
   "metadata": {},
   "outputs": [
    {
     "name": "stdout",
     "output_type": "stream",
     "text": [
      "\n",
      "Should you want a string\n",
      "    that crosses         multiple lines,\n",
      "    Use matched triple quotes.\n"
     ]
    }
   ],
   "source": [
    "print('''\n",
    "Should you want a string\n",
    "    that crosses         multiple lines,\n",
    "    Use matched triple quotes.''')"
   ]
  },
  {
   "cell_type": "code",
   "execution_count": 9,
   "id": "d508d4c6",
   "metadata": {},
   "outputs": [
    {
     "name": "stdout",
     "output_type": "stream",
     "text": [
      "abbcd 2 3\n"
     ]
    }
   ],
   "source": [
    "print('abbcd', 2, 3)"
   ]
  },
  {
   "cell_type": "code",
   "execution_count": 10,
   "id": "fcd4f04b",
   "metadata": {},
   "outputs": [
    {
     "name": "stdout",
     "output_type": "stream",
     "text": [
      "abbcd 2 3 3.14 12324 efg\n"
     ]
    }
   ],
   "source": [
    "print('abbcd', 2, 3, 3.14, '12324', 'efg')"
   ]
  },
  {
   "cell_type": "code",
   "execution_count": 11,
   "id": "26faefec",
   "metadata": {},
   "outputs": [
    {
     "name": "stdout",
     "output_type": "stream",
     "text": [
      "abbcd\n",
      "2\n",
      "3\n",
      "3.14\n",
      "12324\n",
      "efg\n"
     ]
    }
   ],
   "source": [
    "print('abbcd', 2, 3, 3.14, '12324', 'efg', sep='\\n')"
   ]
  },
  {
   "cell_type": "code",
   "execution_count": 12,
   "id": "5f4aa4eb",
   "metadata": {},
   "outputs": [
    {
     "name": "stdout",
     "output_type": "stream",
     "text": [
      "abbcd-2-3-3.14-12324-efg\n"
     ]
    }
   ],
   "source": [
    "print('abbcd', 2, 3, 3.14, '12324', 'efg', sep='-')"
   ]
  },
  {
   "cell_type": "code",
   "execution_count": 13,
   "id": "b7a0793b",
   "metadata": {},
   "outputs": [
    {
     "name": "stdout",
     "output_type": "stream",
     "text": [
      "abbcd-----2-----3-----3.14-----12324-----efg\n"
     ]
    }
   ],
   "source": [
    "print('abbcd', 2, 3, 3.14, '12324', 'efg', sep='-----')"
   ]
  },
  {
   "cell_type": "code",
   "execution_count": 14,
   "id": "b4c6dc26",
   "metadata": {},
   "outputs": [
    {
     "name": "stdout",
     "output_type": "stream",
     "text": [
      "abbcd 2 3 3.14 12324 efg\n"
     ]
    }
   ],
   "source": [
    "print('abbcd', 2, 3, 3.14, '12324', 'efg', sep=' ')"
   ]
  },
  {
   "cell_type": "code",
   "execution_count": 15,
   "id": "d29a1787",
   "metadata": {},
   "outputs": [
    {
     "name": "stdout",
     "output_type": "stream",
     "text": [
      "abbcd233.1412324efg\n"
     ]
    }
   ],
   "source": [
    "print('abbcd', 2, 3, 3.14, '12324', 'efg', sep='')"
   ]
  },
  {
   "cell_type": "code",
   "execution_count": 16,
   "id": "783c7b4a",
   "metadata": {},
   "outputs": [
    {
     "name": "stdout",
     "output_type": "stream",
     "text": [
      "12\n"
     ]
    }
   ],
   "source": [
    "scientist = 'Issac Newton'\n",
    "print(len(scientist))"
   ]
  },
  {
   "cell_type": "code",
   "execution_count": 17,
   "id": "ddd10a4f",
   "metadata": {},
   "outputs": [
    {
     "data": {
      "text/plain": [
       "8"
      ]
     },
     "execution_count": 17,
     "metadata": {},
     "output_type": "execute_result"
    }
   ],
   "source": [
    "mrn1 = '12345678'\n",
    "len(mrn1)"
   ]
  },
  {
   "cell_type": "code",
   "execution_count": 18,
   "id": "abdba479",
   "metadata": {},
   "outputs": [
    {
     "data": {
      "text/plain": [
       "6"
      ]
     },
     "execution_count": 18,
     "metadata": {},
     "output_type": "execute_result"
    }
   ],
   "source": [
    "mrn2 = '123456'\n",
    "len(mrn2)"
   ]
  },
  {
   "cell_type": "code",
   "execution_count": 19,
   "id": "147dfff6",
   "metadata": {},
   "outputs": [
    {
     "data": {
      "text/plain": [
       "''"
      ]
     },
     "execution_count": 19,
     "metadata": {},
     "output_type": "execute_result"
    }
   ],
   "source": [
    "''"
   ]
  },
  {
   "cell_type": "code",
   "execution_count": 20,
   "id": "d2c09523",
   "metadata": {},
   "outputs": [
    {
     "data": {
      "text/plain": [
       "'Alan Turning Grace Hopper'"
      ]
     },
     "execution_count": 20,
     "metadata": {},
     "output_type": "execute_result"
    }
   ],
   "source": [
    "'Alan Turning' + ' ' + 'Grace Hopper'"
   ]
  },
  {
   "cell_type": "code",
   "execution_count": 21,
   "id": "9a51fa79",
   "metadata": {},
   "outputs": [
    {
     "data": {
      "text/plain": [
       "'Alan Turning; Grace Hopper'"
      ]
     },
     "execution_count": 21,
     "metadata": {},
     "output_type": "execute_result"
    }
   ],
   "source": [
    "'Alan Turning' + '; ' + 'Grace Hopper'"
   ]
  },
  {
   "cell_type": "code",
   "execution_count": 22,
   "id": "04db1ead",
   "metadata": {},
   "outputs": [
    {
     "data": {
      "text/plain": [
       "'Alan TurningGrace Hopper'"
      ]
     },
     "execution_count": 22,
     "metadata": {},
     "output_type": "execute_result"
    }
   ],
   "source": [
    "'Alan Turning' + 'Grace Hopper'"
   ]
  },
  {
   "cell_type": "code",
   "execution_count": 23,
   "id": "c683cb67",
   "metadata": {},
   "outputs": [
    {
     "ename": "TypeError",
     "evalue": "can only concatenate str (not \"int\") to str",
     "output_type": "error",
     "traceback": [
      "\u001b[1;31m---------------------------------------------------------------------------\u001b[0m",
      "\u001b[1;31mTypeError\u001b[0m                                 Traceback (most recent call last)",
      "\u001b[1;32m~\\AppData\\Local\\Temp\\ipykernel_24668\\1042277513.py\u001b[0m in \u001b[0;36m<module>\u001b[1;34m\u001b[0m\n\u001b[1;32m----> 1\u001b[1;33m \u001b[1;34m'NH'\u001b[0m \u001b[1;33m+\u001b[0m \u001b[1;36m3\u001b[0m \u001b[1;31m# This will not work. You cannot add a str and int type.\u001b[0m\u001b[1;33m\u001b[0m\u001b[1;33m\u001b[0m\u001b[0m\n\u001b[0m",
      "\u001b[1;31mTypeError\u001b[0m: can only concatenate str (not \"int\") to str"
     ]
    }
   ],
   "source": [
    "'NH' + 3 # This will not work. You cannot add a str and int type. "
   ]
  },
  {
   "cell_type": "code",
   "execution_count": 24,
   "id": "98b50483",
   "metadata": {},
   "outputs": [
    {
     "ename": "TypeError",
     "evalue": "can only concatenate str (not \"int\") to str",
     "output_type": "error",
     "traceback": [
      "\u001b[1;31m---------------------------------------------------------------------------\u001b[0m",
      "\u001b[1;31mTypeError\u001b[0m                                 Traceback (most recent call last)",
      "\u001b[1;32m~\\AppData\\Local\\Temp\\ipykernel_24668\\1636601228.py\u001b[0m in \u001b[0;36m<module>\u001b[1;34m\u001b[0m\n\u001b[1;32m----> 1\u001b[1;33m \u001b[1;34m'Four score and '\u001b[0m \u001b[1;33m+\u001b[0m \u001b[1;36m7\u001b[0m \u001b[1;33m+\u001b[0m \u001b[1;34m' years ago'\u001b[0m\u001b[1;33m\u001b[0m\u001b[1;33m\u001b[0m\u001b[0m\n\u001b[0m",
      "\u001b[1;31mTypeError\u001b[0m: can only concatenate str (not \"int\") to str"
     ]
    }
   ],
   "source": [
    "'Four score and ' + 7 + ' years ago'"
   ]
  },
  {
   "cell_type": "code",
   "execution_count": 25,
   "id": "e87906ad",
   "metadata": {},
   "outputs": [
    {
     "data": {
      "text/plain": [
       "'Four score and 7 years ago'"
      ]
     },
     "execution_count": 25,
     "metadata": {},
     "output_type": "execute_result"
    }
   ],
   "source": [
    "'Four score and ' + str(7) + ' years ago'"
   ]
  },
  {
   "cell_type": "code",
   "execution_count": 26,
   "id": "acd9c797",
   "metadata": {},
   "outputs": [
    {
     "data": {
      "text/plain": [
       "'The value of PI is: 3.14'"
      ]
     },
     "execution_count": 26,
     "metadata": {},
     "output_type": "execute_result"
    }
   ],
   "source": [
    "'The value of PI is: ' + str(3.14)"
   ]
  },
  {
   "cell_type": "code",
   "execution_count": 27,
   "id": "eaf169ad",
   "metadata": {},
   "outputs": [
    {
     "name": "stdout",
     "output_type": "stream",
     "text": [
      "0\n",
      "11\n",
      "-324\n",
      "-324.4\n"
     ]
    }
   ],
   "source": [
    "print(int('0'))\n",
    "print(int('11'))\n",
    "print(int('-324'))\n",
    "print(float('-324.40'))"
   ]
  },
  {
   "cell_type": "code",
   "execution_count": 28,
   "id": "9d5af071",
   "metadata": {},
   "outputs": [
    {
     "ename": "ValueError",
     "evalue": "invalid literal for int() with base 10: '-324.40'",
     "output_type": "error",
     "traceback": [
      "\u001b[1;31m---------------------------------------------------------------------------\u001b[0m",
      "\u001b[1;31mValueError\u001b[0m                                Traceback (most recent call last)",
      "\u001b[1;32m~\\AppData\\Local\\Temp\\ipykernel_24668\\2421685114.py\u001b[0m in \u001b[0;36m<module>\u001b[1;34m\u001b[0m\n\u001b[1;32m----> 1\u001b[1;33m \u001b[0mprint\u001b[0m\u001b[1;33m(\u001b[0m\u001b[0mint\u001b[0m\u001b[1;33m(\u001b[0m\u001b[1;34m'-324.40'\u001b[0m\u001b[1;33m)\u001b[0m\u001b[1;33m)\u001b[0m\u001b[1;33m\u001b[0m\u001b[1;33m\u001b[0m\u001b[0m\n\u001b[0m",
      "\u001b[1;31mValueError\u001b[0m: invalid literal for int() with base 10: '-324.40'"
     ]
    }
   ],
   "source": [
    "print(int('-324.40'))"
   ]
  },
  {
   "cell_type": "code",
   "execution_count": 29,
   "id": "60f7565a",
   "metadata": {},
   "outputs": [
    {
     "data": {
      "text/plain": [
       "324"
      ]
     },
     "execution_count": 29,
     "metadata": {},
     "output_type": "execute_result"
    }
   ],
   "source": [
    "int(324.40)"
   ]
  },
  {
   "cell_type": "code",
   "execution_count": 30,
   "id": "2d8d8730",
   "metadata": {},
   "outputs": [
    {
     "data": {
      "text/plain": [
       "'ATATATATAT'"
      ]
     },
     "execution_count": 30,
     "metadata": {},
     "output_type": "execute_result"
    }
   ],
   "source": [
    "'AT' * 5"
   ]
  },
  {
   "cell_type": "code",
   "execution_count": 33,
   "id": "55b59d14",
   "metadata": {},
   "outputs": [
    {
     "name": "stdout",
     "output_type": "stream",
     "text": [
      "-------------------------\n",
      "John Doe\n",
      "-------------------------\n",
      "Jane Doe\n"
     ]
    }
   ],
   "source": [
    "print('-' * 25)\n",
    "print('John Doe')\n",
    "print('-' * 25)\n",
    "print('Jane Doe')"
   ]
  },
  {
   "cell_type": "code",
   "execution_count": 35,
   "id": "15306f60",
   "metadata": {},
   "outputs": [
    {
     "data": {
      "text/plain": [
       "\"I can't do this\""
      ]
     },
     "execution_count": 35,
     "metadata": {},
     "output_type": "execute_result"
    }
   ],
   "source": [
    "'I can\\'t do this'"
   ]
  },
  {
   "cell_type": "code",
   "execution_count": 38,
   "id": "458b68e6",
   "metadata": {},
   "outputs": [
    {
     "name": "stdout",
     "output_type": "stream",
     "text": [
      "This is the first line\n",
      "This is the next line\n"
     ]
    }
   ],
   "source": [
    "print('This is the first line\\nThis is the next line')"
   ]
  },
  {
   "cell_type": "code",
   "execution_count": 39,
   "id": "8eaf0690",
   "metadata": {},
   "outputs": [
    {
     "name": "stdout",
     "output_type": "stream",
     "text": [
      "This is the first line\tThis is the next line\n"
     ]
    }
   ],
   "source": [
    "print('This is the first line\\tThis is the next line')"
   ]
  },
  {
   "cell_type": "code",
   "execution_count": 40,
   "id": "0f65ea8c",
   "metadata": {},
   "outputs": [
    {
     "data": {
      "text/plain": [
       "'He said, \"why?\"'"
      ]
     },
     "execution_count": 40,
     "metadata": {},
     "output_type": "execute_result"
    }
   ],
   "source": [
    "\"He said, \\\"why?\\\"\""
   ]
  },
  {
   "cell_type": "code",
   "execution_count": 41,
   "id": "a1c370b0",
   "metadata": {},
   "outputs": [
    {
     "name": "stdout",
     "output_type": "stream",
     "text": [
      "Please enter a number: 25\n"
     ]
    }
   ],
   "source": [
    "number = input('Please enter a number: ')"
   ]
  },
  {
   "cell_type": "code",
   "execution_count": 42,
   "id": "20293a64",
   "metadata": {},
   "outputs": [
    {
     "name": "stdout",
     "output_type": "stream",
     "text": [
      "Please enter a number:25\n"
     ]
    }
   ],
   "source": [
    "number = input('Please enter a number:')"
   ]
  },
  {
   "cell_type": "code",
   "execution_count": 43,
   "id": "e2f10cf0",
   "metadata": {},
   "outputs": [
    {
     "name": "stdout",
     "output_type": "stream",
     "text": [
      "Please enter a number: 25\n"
     ]
    }
   ],
   "source": [
    "number = input('Please enter a number: ')"
   ]
  },
  {
   "cell_type": "code",
   "execution_count": 45,
   "id": "75b3f038",
   "metadata": {},
   "outputs": [
    {
     "data": {
      "text/plain": [
       "str"
      ]
     },
     "execution_count": 45,
     "metadata": {},
     "output_type": "execute_result"
    }
   ],
   "source": [
    "type(number)"
   ]
  },
  {
   "cell_type": "code",
   "execution_count": 46,
   "id": "7911f337",
   "metadata": {},
   "outputs": [
    {
     "name": "stdout",
     "output_type": "stream",
     "text": [
      "Please enter a number: 25\n"
     ]
    }
   ],
   "source": [
    "number = int(input('Please enter a number: '))"
   ]
  },
  {
   "cell_type": "code",
   "execution_count": 47,
   "id": "c72e23c8",
   "metadata": {},
   "outputs": [
    {
     "data": {
      "text/plain": [
       "int"
      ]
     },
     "execution_count": 47,
     "metadata": {},
     "output_type": "execute_result"
    }
   ],
   "source": [
    "type(number)"
   ]
  },
  {
   "cell_type": "code",
   "execution_count": 48,
   "id": "6431423c",
   "metadata": {},
   "outputs": [
    {
     "name": "stdout",
     "output_type": "stream",
     "text": [
      "Please enter a number: 3.14\n"
     ]
    },
    {
     "ename": "ValueError",
     "evalue": "invalid literal for int() with base 10: '3.14'",
     "output_type": "error",
     "traceback": [
      "\u001b[1;31m---------------------------------------------------------------------------\u001b[0m",
      "\u001b[1;31mValueError\u001b[0m                                Traceback (most recent call last)",
      "\u001b[1;32m~\\AppData\\Local\\Temp\\ipykernel_24668\\118622374.py\u001b[0m in \u001b[0;36m<module>\u001b[1;34m\u001b[0m\n\u001b[1;32m----> 1\u001b[1;33m \u001b[0mnumber\u001b[0m \u001b[1;33m=\u001b[0m \u001b[0mint\u001b[0m\u001b[1;33m(\u001b[0m\u001b[0minput\u001b[0m\u001b[1;33m(\u001b[0m\u001b[1;34m'Please enter a number: '\u001b[0m\u001b[1;33m)\u001b[0m\u001b[1;33m)\u001b[0m\u001b[1;33m\u001b[0m\u001b[1;33m\u001b[0m\u001b[0m\n\u001b[0m",
      "\u001b[1;31mValueError\u001b[0m: invalid literal for int() with base 10: '3.14'"
     ]
    }
   ],
   "source": [
    "number = int(input('Please enter a number: '))"
   ]
  },
  {
   "cell_type": "code",
   "execution_count": 49,
   "id": "1b6cb381",
   "metadata": {},
   "outputs": [
    {
     "name": "stdout",
     "output_type": "stream",
     "text": [
      "Please enter a number: lol\n"
     ]
    },
    {
     "ename": "ValueError",
     "evalue": "invalid literal for int() with base 10: 'lol'",
     "output_type": "error",
     "traceback": [
      "\u001b[1;31m---------------------------------------------------------------------------\u001b[0m",
      "\u001b[1;31mValueError\u001b[0m                                Traceback (most recent call last)",
      "\u001b[1;32m~\\AppData\\Local\\Temp\\ipykernel_24668\\118622374.py\u001b[0m in \u001b[0;36m<module>\u001b[1;34m\u001b[0m\n\u001b[1;32m----> 1\u001b[1;33m \u001b[0mnumber\u001b[0m \u001b[1;33m=\u001b[0m \u001b[0mint\u001b[0m\u001b[1;33m(\u001b[0m\u001b[0minput\u001b[0m\u001b[1;33m(\u001b[0m\u001b[1;34m'Please enter a number: '\u001b[0m\u001b[1;33m)\u001b[0m\u001b[1;33m)\u001b[0m\u001b[1;33m\u001b[0m\u001b[1;33m\u001b[0m\u001b[0m\n\u001b[0m",
      "\u001b[1;31mValueError\u001b[0m: invalid literal for int() with base 10: 'lol'"
     ]
    }
   ],
   "source": [
    "number = int(input('Please enter a number: '))"
   ]
  },
  {
   "cell_type": "code",
   "execution_count": 53,
   "id": "6cfeed0a",
   "metadata": {},
   "outputs": [
    {
     "name": "stdout",
     "output_type": "stream",
     "text": [
      "25\n"
     ]
    }
   ],
   "source": [
    "number = 25\n",
    "print(number)"
   ]
  },
  {
   "cell_type": "code",
   "execution_count": 50,
   "id": "04130502",
   "metadata": {},
   "outputs": [],
   "source": [
    "def add(x, y):\n",
    "    return x + y"
   ]
  },
  {
   "cell_type": "code",
   "execution_count": 51,
   "id": "80302d92",
   "metadata": {},
   "outputs": [
    {
     "data": {
      "text/plain": [
       "25"
      ]
     },
     "execution_count": 51,
     "metadata": {},
     "output_type": "execute_result"
    }
   ],
   "source": [
    "add(12, 13)"
   ]
  },
  {
   "cell_type": "code",
   "execution_count": 52,
   "id": "d6584aac",
   "metadata": {},
   "outputs": [],
   "source": [
    "def convert_celsius():\n",
    "    fahrenheit = float(input('Please enter temperature in Fahrenheit: '))\n",
    "    celsius =  (fahrenheit - 32.0) * 5.0 / 9.0  \n",
    "    print('The temperature in celsius is: ', celsius) "
   ]
  },
  {
   "cell_type": "code",
   "execution_count": 55,
   "id": "652c705f",
   "metadata": {},
   "outputs": [
    {
     "name": "stdout",
     "output_type": "stream",
     "text": [
      "Please enter temperature in Fahrenheit: 32\n",
      "The temperature in celsius is:  0.0\n"
     ]
    }
   ],
   "source": [
    "convert_celsius()"
   ]
  },
  {
   "cell_type": "code",
   "execution_count": 56,
   "id": "20ea954f",
   "metadata": {},
   "outputs": [
    {
     "name": "stdout",
     "output_type": "stream",
     "text": [
      "Please enter temperature in Fahrenheit: 212\n",
      "The temperature in celsius is:  100.0\n"
     ]
    }
   ],
   "source": [
    "convert_celsius()"
   ]
  },
  {
   "cell_type": "code",
   "execution_count": 57,
   "id": "ea8e8030",
   "metadata": {},
   "outputs": [
    {
     "name": "stdout",
     "output_type": "stream",
     "text": [
      "eas503\n"
     ]
    }
   ],
   "source": [
    "str1 = 'eas'\n",
    "str1 += '503'\n",
    "print(str1)"
   ]
  },
  {
   "cell_type": "code",
   "execution_count": null,
   "id": "a844b4d6",
   "metadata": {},
   "outputs": [],
   "source": []
  }
 ],
 "metadata": {
  "kernelspec": {
   "display_name": "Python 3 (ipykernel)",
   "language": "python",
   "name": "python3"
  },
  "language_info": {
   "codemirror_mode": {
    "name": "ipython",
    "version": 3
   },
   "file_extension": ".py",
   "mimetype": "text/x-python",
   "name": "python",
   "nbconvert_exporter": "python",
   "pygments_lexer": "ipython3",
   "version": "3.8.16"
  }
 },
 "nbformat": 4,
 "nbformat_minor": 5
}
