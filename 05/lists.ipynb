{
 "cells": [
  {
   "cell_type": "code",
   "execution_count": 1,
   "id": "90a20b73",
   "metadata": {},
   "outputs": [
    {
     "data": {
      "text/plain": [
       "'A'"
      ]
     },
     "execution_count": 1,
     "metadata": {},
     "output_type": "execute_result"
    }
   ],
   "source": [
    "grades = ['A', 'B', 'C', 'D', 'F']\n",
    "grades[0]"
   ]
  },
  {
   "cell_type": "code",
   "execution_count": 2,
   "id": "8702e598",
   "metadata": {},
   "outputs": [
    {
     "data": {
      "text/plain": [
       "'F'"
      ]
     },
     "execution_count": 2,
     "metadata": {},
     "output_type": "execute_result"
    }
   ],
   "source": [
    "grades[4]"
   ]
  },
  {
   "cell_type": "code",
   "execution_count": 3,
   "id": "9481bf98",
   "metadata": {},
   "outputs": [
    {
     "data": {
      "text/plain": [
       "31"
      ]
     },
     "execution_count": 3,
     "metadata": {},
     "output_type": "execute_result"
    }
   ],
   "source": [
    "days_in_months = [0, 31, 28, 31, 30, 31, 30, 31, 31, 30, 31, 30, 31]\n",
    "days_in_months[1]"
   ]
  },
  {
   "cell_type": "code",
   "execution_count": 4,
   "id": "902c94c9",
   "metadata": {},
   "outputs": [
    {
     "data": {
      "text/plain": [
       "30"
      ]
     },
     "execution_count": 4,
     "metadata": {},
     "output_type": "execute_result"
    }
   ],
   "source": [
    "days_in_months[4]"
   ]
  },
  {
   "cell_type": "code",
   "execution_count": 5,
   "id": "8d056abf",
   "metadata": {},
   "outputs": [
    {
     "data": {
      "text/plain": [
       "31"
      ]
     },
     "execution_count": 5,
     "metadata": {},
     "output_type": "execute_result"
    }
   ],
   "source": [
    "days_in_months[5]"
   ]
  },
  {
   "cell_type": "code",
   "execution_count": 6,
   "id": "78a61cd5",
   "metadata": {},
   "outputs": [],
   "source": [
    "grades_count = [20, 40, 10, 2, 3]"
   ]
  },
  {
   "cell_type": "code",
   "execution_count": 7,
   "id": "56bdf498",
   "metadata": {},
   "outputs": [],
   "source": [
    "days = [0, 31, 28, 31, 30, 31, 30, 31, 31, 30, 31, 30, 31]"
   ]
  },
  {
   "cell_type": "code",
   "execution_count": 8,
   "id": "8e0b9419",
   "metadata": {},
   "outputs": [
    {
     "data": {
      "text/plain": [
       "31"
      ]
     },
     "execution_count": 8,
     "metadata": {},
     "output_type": "execute_result"
    }
   ],
   "source": [
    "days[3]"
   ]
  },
  {
   "cell_type": "code",
   "execution_count": 9,
   "id": "c222495f",
   "metadata": {},
   "outputs": [
    {
     "data": {
      "text/plain": [
       "[31, 30, 31, 30, 31, 31, 30, 31, 30, 31]"
      ]
     },
     "execution_count": 9,
     "metadata": {},
     "output_type": "execute_result"
    }
   ],
   "source": [
    "days[3:]"
   ]
  },
  {
   "cell_type": "code",
   "execution_count": 10,
   "id": "5c48ada2",
   "metadata": {},
   "outputs": [
    {
     "data": {
      "text/plain": [
       "[0, 31, 28, 31, 30, 31, 30, 31, 31, 30]"
      ]
     },
     "execution_count": 10,
     "metadata": {},
     "output_type": "execute_result"
    }
   ],
   "source": [
    "days[:10]"
   ]
  },
  {
   "cell_type": "code",
   "execution_count": 11,
   "id": "2f416ff5",
   "metadata": {},
   "outputs": [],
   "source": [
    "my_list = [0, 1, 2, 3, 4, 5, 6, 7, 8, 9, 10, 11, 12]"
   ]
  },
  {
   "cell_type": "code",
   "execution_count": 12,
   "id": "eec2166f",
   "metadata": {},
   "outputs": [
    {
     "data": {
      "text/plain": [
       "[0, 1, 2, 3, 4, 5, 6, 7, 8, 9]"
      ]
     },
     "execution_count": 12,
     "metadata": {},
     "output_type": "execute_result"
    }
   ],
   "source": [
    "my_list[:10]"
   ]
  },
  {
   "cell_type": "code",
   "execution_count": 13,
   "id": "0118d997",
   "metadata": {},
   "outputs": [
    {
     "data": {
      "text/plain": [
       "[3, 4, 5, 6, 7, 8, 9]"
      ]
     },
     "execution_count": 13,
     "metadata": {},
     "output_type": "execute_result"
    }
   ],
   "source": [
    "my_list[3:10]"
   ]
  },
  {
   "cell_type": "code",
   "execution_count": 14,
   "id": "1ebd4821",
   "metadata": {},
   "outputs": [
    {
     "data": {
      "text/plain": [
       "[3, 5, 7, 9]"
      ]
     },
     "execution_count": 14,
     "metadata": {},
     "output_type": "execute_result"
    }
   ],
   "source": [
    "my_list[3:10:2]"
   ]
  },
  {
   "cell_type": "code",
   "execution_count": 15,
   "id": "96ed07e5",
   "metadata": {},
   "outputs": [
    {
     "data": {
      "text/plain": [
       "[0, 2, 4, 6, 8]"
      ]
     },
     "execution_count": 15,
     "metadata": {},
     "output_type": "execute_result"
    }
   ],
   "source": [
    "my_list[:10:2]"
   ]
  },
  {
   "cell_type": "code",
   "execution_count": 16,
   "id": "6769c5d5",
   "metadata": {},
   "outputs": [
    {
     "data": {
      "text/plain": [
       "12"
      ]
     },
     "execution_count": 16,
     "metadata": {},
     "output_type": "execute_result"
    }
   ],
   "source": [
    "my_list[-1]"
   ]
  },
  {
   "cell_type": "code",
   "execution_count": 17,
   "id": "80b19e38",
   "metadata": {},
   "outputs": [
    {
     "data": {
      "text/plain": [
       "[12, 11, 10, 9, 8, 7, 6, 5, 4, 3, 2, 1, 0]"
      ]
     },
     "execution_count": 17,
     "metadata": {},
     "output_type": "execute_result"
    }
   ],
   "source": [
    "my_list[::-1]"
   ]
  },
  {
   "cell_type": "code",
   "execution_count": 18,
   "id": "a0eeaf2a",
   "metadata": {},
   "outputs": [],
   "source": [
    "grades = ['A', 'B', 'C', 'D', 'F']\n",
    "grades[0] = 'a'"
   ]
  },
  {
   "cell_type": "code",
   "execution_count": 19,
   "id": "c0cd2d40",
   "metadata": {},
   "outputs": [
    {
     "data": {
      "text/plain": [
       "['a', 'B', 'C', 'D', 'F']"
      ]
     },
     "execution_count": 19,
     "metadata": {},
     "output_type": "execute_result"
    }
   ],
   "source": [
    "grades"
   ]
  },
  {
   "cell_type": "code",
   "execution_count": 20,
   "id": "78377692",
   "metadata": {},
   "outputs": [],
   "source": [
    "grades[1:2] = 'a'"
   ]
  },
  {
   "cell_type": "code",
   "execution_count": 21,
   "id": "4f20c828",
   "metadata": {},
   "outputs": [
    {
     "data": {
      "text/plain": [
       "['a', 'a', 'C', 'D', 'F']"
      ]
     },
     "execution_count": 21,
     "metadata": {},
     "output_type": "execute_result"
    }
   ],
   "source": [
    "grades"
   ]
  },
  {
   "cell_type": "code",
   "execution_count": 22,
   "id": "4e567ebc",
   "metadata": {},
   "outputs": [],
   "source": [
    "grades[2:] = ['d', 'f']"
   ]
  },
  {
   "cell_type": "code",
   "execution_count": 23,
   "id": "2749d4e3",
   "metadata": {},
   "outputs": [
    {
     "data": {
      "text/plain": [
       "['a', 'a', 'd', 'f']"
      ]
     },
     "execution_count": 23,
     "metadata": {},
     "output_type": "execute_result"
    }
   ],
   "source": [
    "grades"
   ]
  },
  {
   "cell_type": "code",
   "execution_count": 24,
   "id": "877340a1",
   "metadata": {},
   "outputs": [],
   "source": [
    "grades[1:4] = 'a'"
   ]
  },
  {
   "cell_type": "code",
   "execution_count": 25,
   "id": "ca4f6d31",
   "metadata": {},
   "outputs": [
    {
     "data": {
      "text/plain": [
       "['a', 'a']"
      ]
     },
     "execution_count": 25,
     "metadata": {},
     "output_type": "execute_result"
    }
   ],
   "source": [
    "grades"
   ]
  },
  {
   "cell_type": "code",
   "execution_count": 26,
   "id": "6c4302cc",
   "metadata": {},
   "outputs": [],
   "source": [
    "grades = ['A', 'B', 'C', 'D', 'F']\n",
    "del grades[0]"
   ]
  },
  {
   "cell_type": "code",
   "execution_count": 27,
   "id": "0f51f649",
   "metadata": {},
   "outputs": [
    {
     "data": {
      "text/plain": [
       "['B', 'C', 'D', 'F']"
      ]
     },
     "execution_count": 27,
     "metadata": {},
     "output_type": "execute_result"
    }
   ],
   "source": [
    "grades"
   ]
  },
  {
   "cell_type": "code",
   "execution_count": 28,
   "id": "7785370d",
   "metadata": {},
   "outputs": [],
   "source": [
    "del grades[1:3]"
   ]
  },
  {
   "cell_type": "code",
   "execution_count": 29,
   "id": "5ba2a508",
   "metadata": {},
   "outputs": [
    {
     "data": {
      "text/plain": [
       "['B', 'F']"
      ]
     },
     "execution_count": 29,
     "metadata": {},
     "output_type": "execute_result"
    }
   ],
   "source": [
    "grades"
   ]
  },
  {
   "cell_type": "code",
   "execution_count": 30,
   "id": "edd7a7d0",
   "metadata": {},
   "outputs": [],
   "source": [
    "del grades"
   ]
  },
  {
   "cell_type": "code",
   "execution_count": 31,
   "id": "7f59f8dc",
   "metadata": {},
   "outputs": [
    {
     "ename": "NameError",
     "evalue": "name 'grades' is not defined",
     "output_type": "error",
     "traceback": [
      "\u001b[1;31m---------------------------------------------------------------------------\u001b[0m",
      "\u001b[1;31mNameError\u001b[0m                                 Traceback (most recent call last)",
      "\u001b[1;32m~\\AppData\\Local\\Temp\\ipykernel_21368\\1751191658.py\u001b[0m in \u001b[0;36m<module>\u001b[1;34m\u001b[0m\n\u001b[1;32m----> 1\u001b[1;33m \u001b[0mgrades\u001b[0m\u001b[1;33m\u001b[0m\u001b[1;33m\u001b[0m\u001b[0m\n\u001b[0m",
      "\u001b[1;31mNameError\u001b[0m: name 'grades' is not defined"
     ]
    }
   ],
   "source": [
    "grades"
   ]
  },
  {
   "cell_type": "code",
   "execution_count": 32,
   "id": "6b920f75",
   "metadata": {},
   "outputs": [],
   "source": [
    "grades = ['A', 'B', 'C', 'D', 'F']"
   ]
  },
  {
   "cell_type": "code",
   "execution_count": 33,
   "id": "8e0ff25c",
   "metadata": {},
   "outputs": [
    {
     "data": {
      "text/plain": [
       "'F'"
      ]
     },
     "execution_count": 33,
     "metadata": {},
     "output_type": "execute_result"
    }
   ],
   "source": [
    "grades.pop()"
   ]
  },
  {
   "cell_type": "code",
   "execution_count": 34,
   "id": "d04c3668",
   "metadata": {},
   "outputs": [],
   "source": [
    "grades = ['A', 'B', 'C', 'D', 'F']\n",
    "val = grades.pop()"
   ]
  },
  {
   "cell_type": "code",
   "execution_count": 35,
   "id": "858396d5",
   "metadata": {},
   "outputs": [
    {
     "data": {
      "text/plain": [
       "'F'"
      ]
     },
     "execution_count": 35,
     "metadata": {},
     "output_type": "execute_result"
    }
   ],
   "source": [
    "val"
   ]
  },
  {
   "cell_type": "code",
   "execution_count": 36,
   "id": "2edec2f1",
   "metadata": {},
   "outputs": [
    {
     "ename": "SyntaxError",
     "evalue": "invalid syntax (2872491681.py, line 1)",
     "output_type": "error",
     "traceback": [
      "\u001b[1;36m  File \u001b[1;32m\"C:\\Users\\mkhaw\\AppData\\Local\\Temp\\ipykernel_21368\\2872491681.py\"\u001b[1;36m, line \u001b[1;32m1\u001b[0m\n\u001b[1;33m    val2 = del grades[1]\u001b[0m\n\u001b[1;37m           ^\u001b[0m\n\u001b[1;31mSyntaxError\u001b[0m\u001b[1;31m:\u001b[0m invalid syntax\n"
     ]
    }
   ],
   "source": [
    "val2 = del grades[1]"
   ]
  },
  {
   "cell_type": "code",
   "execution_count": 37,
   "id": "ce158cfc",
   "metadata": {},
   "outputs": [
    {
     "data": {
      "text/plain": [
       "'A'"
      ]
     },
     "execution_count": 37,
     "metadata": {},
     "output_type": "execute_result"
    }
   ],
   "source": [
    "grades.pop(0)"
   ]
  },
  {
   "cell_type": "code",
   "execution_count": 38,
   "id": "c70fe99b",
   "metadata": {},
   "outputs": [
    {
     "data": {
      "text/plain": [
       "['B', 'C', 'D']"
      ]
     },
     "execution_count": 38,
     "metadata": {},
     "output_type": "execute_result"
    }
   ],
   "source": [
    "grades"
   ]
  },
  {
   "cell_type": "code",
   "execution_count": 39,
   "id": "398c8793",
   "metadata": {},
   "outputs": [],
   "source": [
    "grades1 = ['A', 'B', 'C']\n",
    "grades2 = ['D', 'F']"
   ]
  },
  {
   "cell_type": "code",
   "execution_count": 40,
   "id": "fc2bfbea",
   "metadata": {},
   "outputs": [
    {
     "data": {
      "text/plain": [
       "['A', 'B', 'C', 'D', 'F']"
      ]
     },
     "execution_count": 40,
     "metadata": {},
     "output_type": "execute_result"
    }
   ],
   "source": [
    "grades1 + grades2"
   ]
  },
  {
   "cell_type": "code",
   "execution_count": 41,
   "id": "cb097e51",
   "metadata": {},
   "outputs": [],
   "source": [
    "grades = ['A', 'B', 'C', 'D', 'F']\n",
    "grades *= 3"
   ]
  },
  {
   "cell_type": "code",
   "execution_count": 42,
   "id": "512fcb61",
   "metadata": {},
   "outputs": [
    {
     "data": {
      "text/plain": [
       "['A', 'B', 'C', 'D', 'F', 'A', 'B', 'C', 'D', 'F', 'A', 'B', 'C', 'D', 'F']"
      ]
     },
     "execution_count": 42,
     "metadata": {},
     "output_type": "execute_result"
    }
   ],
   "source": [
    "grades"
   ]
  },
  {
   "cell_type": "code",
   "execution_count": 48,
   "id": "6a864b68",
   "metadata": {},
   "outputs": [],
   "source": [
    "my_list2 = [['John', [55, 65, 86]], ['Jane', [70, 80, 80]]]"
   ]
  },
  {
   "cell_type": "code",
   "execution_count": 46,
   "id": "df0bf326",
   "metadata": {},
   "outputs": [
    {
     "data": {
      "text/plain": [
       "['John', [55, 65, 86]]"
      ]
     },
     "execution_count": 46,
     "metadata": {},
     "output_type": "execute_result"
    }
   ],
   "source": [
    "my_list2[0]"
   ]
  },
  {
   "cell_type": "code",
   "execution_count": 47,
   "id": "7e1e00ec",
   "metadata": {},
   "outputs": [
    {
     "data": {
      "text/plain": [
       "'John'"
      ]
     },
     "execution_count": 47,
     "metadata": {},
     "output_type": "execute_result"
    }
   ],
   "source": [
    "my_list2[0][0]"
   ]
  },
  {
   "cell_type": "code",
   "execution_count": 49,
   "id": "ec7f8e61",
   "metadata": {},
   "outputs": [
    {
     "data": {
      "text/plain": [
       "[55, 65, 86]"
      ]
     },
     "execution_count": 49,
     "metadata": {},
     "output_type": "execute_result"
    }
   ],
   "source": [
    "my_list2[0][1]"
   ]
  },
  {
   "cell_type": "code",
   "execution_count": 52,
   "id": "9faeb360",
   "metadata": {},
   "outputs": [
    {
     "data": {
      "text/plain": [
       "65"
      ]
     },
     "execution_count": 52,
     "metadata": {},
     "output_type": "execute_result"
    }
   ],
   "source": [
    "my_list2[0][1][1]"
   ]
  },
  {
   "cell_type": "code",
   "execution_count": 53,
   "id": "1583197f",
   "metadata": {},
   "outputs": [
    {
     "data": {
      "text/plain": [
       "True"
      ]
     },
     "execution_count": 53,
     "metadata": {},
     "output_type": "execute_result"
    }
   ],
   "source": [
    "values = [1, 'some_string', 3.14]\n",
    "all(values)"
   ]
  },
  {
   "cell_type": "code",
   "execution_count": 54,
   "id": "872893ad",
   "metadata": {},
   "outputs": [
    {
     "data": {
      "text/plain": [
       "False"
      ]
     },
     "execution_count": 54,
     "metadata": {},
     "output_type": "execute_result"
    }
   ],
   "source": [
    "values = [1, 'some_string', 0]\n",
    "all(values)"
   ]
  },
  {
   "cell_type": "code",
   "execution_count": 55,
   "id": "1afadd7b",
   "metadata": {},
   "outputs": [
    {
     "data": {
      "text/plain": [
       "False"
      ]
     },
     "execution_count": 55,
     "metadata": {},
     "output_type": "execute_result"
    }
   ],
   "source": [
    "values = [1, '', 3.14]\n",
    "all(values)"
   ]
  },
  {
   "cell_type": "code",
   "execution_count": 56,
   "id": "2bb0bfc1",
   "metadata": {},
   "outputs": [
    {
     "name": "stdout",
     "output_type": "stream",
     "text": [
      "3 4\n"
     ]
    }
   ],
   "source": [
    "a, b = [3, 4]\n",
    "print(a,b)"
   ]
  },
  {
   "cell_type": "code",
   "execution_count": 57,
   "id": "60823b9c",
   "metadata": {},
   "outputs": [
    {
     "name": "stdout",
     "output_type": "stream",
     "text": [
      "3 4 5\n"
     ]
    }
   ],
   "source": [
    "a, b, c = [3, 4, 5]\n",
    "print(a, b, c)"
   ]
  },
  {
   "cell_type": "code",
   "execution_count": 58,
   "id": "fa131854",
   "metadata": {},
   "outputs": [],
   "source": [
    "my_tuple = (1, 2, 3)"
   ]
  },
  {
   "cell_type": "code",
   "execution_count": 59,
   "id": "951b3fbb",
   "metadata": {},
   "outputs": [
    {
     "ename": "AttributeError",
     "evalue": "'tuple' object has no attribute 'append'",
     "output_type": "error",
     "traceback": [
      "\u001b[1;31m---------------------------------------------------------------------------\u001b[0m",
      "\u001b[1;31mAttributeError\u001b[0m                            Traceback (most recent call last)",
      "\u001b[1;32m~\\AppData\\Local\\Temp\\ipykernel_21368\\1848051633.py\u001b[0m in \u001b[0;36m<module>\u001b[1;34m\u001b[0m\n\u001b[1;32m----> 1\u001b[1;33m \u001b[0mmy_tuple\u001b[0m\u001b[1;33m.\u001b[0m\u001b[0mappend\u001b[0m\u001b[1;33m(\u001b[0m\u001b[1;36m3\u001b[0m\u001b[1;33m)\u001b[0m\u001b[1;33m\u001b[0m\u001b[1;33m\u001b[0m\u001b[0m\n\u001b[0m",
      "\u001b[1;31mAttributeError\u001b[0m: 'tuple' object has no attribute 'append'"
     ]
    }
   ],
   "source": [
    "my_tuple.append(3)"
   ]
  },
  {
   "cell_type": "code",
   "execution_count": 60,
   "id": "bb40c95a",
   "metadata": {},
   "outputs": [
    {
     "ename": "AttributeError",
     "evalue": "'tuple' object has no attribute 'insert'",
     "output_type": "error",
     "traceback": [
      "\u001b[1;31m---------------------------------------------------------------------------\u001b[0m",
      "\u001b[1;31mAttributeError\u001b[0m                            Traceback (most recent call last)",
      "\u001b[1;32m~\\AppData\\Local\\Temp\\ipykernel_21368\\937722887.py\u001b[0m in \u001b[0;36m<module>\u001b[1;34m\u001b[0m\n\u001b[1;32m----> 1\u001b[1;33m \u001b[0mmy_tuple\u001b[0m\u001b[1;33m.\u001b[0m\u001b[0minsert\u001b[0m\u001b[1;33m(\u001b[0m\u001b[1;36m0\u001b[0m\u001b[1;33m,\u001b[0m \u001b[1;36m3\u001b[0m\u001b[1;33m)\u001b[0m\u001b[1;33m\u001b[0m\u001b[1;33m\u001b[0m\u001b[0m\n\u001b[0m",
      "\u001b[1;31mAttributeError\u001b[0m: 'tuple' object has no attribute 'insert'"
     ]
    }
   ],
   "source": [
    "my_tuple.insert(0, 3)"
   ]
  },
  {
   "cell_type": "code",
   "execution_count": 61,
   "id": "e5982b3e",
   "metadata": {},
   "outputs": [
    {
     "ename": "TypeError",
     "evalue": "'tuple' object does not support item assignment",
     "output_type": "error",
     "traceback": [
      "\u001b[1;31m---------------------------------------------------------------------------\u001b[0m",
      "\u001b[1;31mTypeError\u001b[0m                                 Traceback (most recent call last)",
      "\u001b[1;32m~\\AppData\\Local\\Temp\\ipykernel_21368\\4061372878.py\u001b[0m in \u001b[0;36m<module>\u001b[1;34m\u001b[0m\n\u001b[1;32m----> 1\u001b[1;33m \u001b[0mmy_tuple\u001b[0m\u001b[1;33m[\u001b[0m\u001b[1;36m1\u001b[0m\u001b[1;33m]\u001b[0m \u001b[1;33m=\u001b[0m \u001b[1;36m10\u001b[0m\u001b[1;33m\u001b[0m\u001b[1;33m\u001b[0m\u001b[0m\n\u001b[0m",
      "\u001b[1;31mTypeError\u001b[0m: 'tuple' object does not support item assignment"
     ]
    }
   ],
   "source": [
    "my_tuple[1] = 10"
   ]
  },
  {
   "cell_type": "code",
   "execution_count": 62,
   "id": "9787f938",
   "metadata": {},
   "outputs": [
    {
     "name": "stdout",
     "output_type": "stream",
     "text": [
      "(1, 2, 3, [4, 5, 6, 7])\n"
     ]
    }
   ],
   "source": [
    "my_tuple = (1, 2, 3, [4, 5, 6])\n",
    "my_tuple[3].append(7)\n",
    "print(my_tuple)"
   ]
  },
  {
   "cell_type": "code",
   "execution_count": 63,
   "id": "30b7d416",
   "metadata": {},
   "outputs": [
    {
     "data": {
      "text/plain": [
       "'start=3;end=20;step=2'"
      ]
     },
     "execution_count": 63,
     "metadata": {},
     "output_type": "execute_result"
    }
   ],
   "source": [
    "my_string = 'range=start=3;end=20;step=2'\n",
    "range_options = my_string.split('=', 1)[1]\n",
    "range_options"
   ]
  },
  {
   "cell_type": "code",
   "execution_count": 64,
   "id": "14775298",
   "metadata": {},
   "outputs": [
    {
     "data": {
      "text/plain": [
       "['start=3', 'end=20', 'step=2']"
      ]
     },
     "execution_count": 64,
     "metadata": {},
     "output_type": "execute_result"
    }
   ],
   "source": [
    "range_options.split(';')"
   ]
  },
  {
   "cell_type": "code",
   "execution_count": 65,
   "id": "0253bae8",
   "metadata": {},
   "outputs": [],
   "source": [
    "start, end, step = range_options.split(';')"
   ]
  },
  {
   "cell_type": "code",
   "execution_count": 66,
   "id": "34350865",
   "metadata": {},
   "outputs": [
    {
     "name": "stdout",
     "output_type": "stream",
     "text": [
      "start=3 end=20 step=2\n"
     ]
    }
   ],
   "source": [
    "print(start, end, step)"
   ]
  },
  {
   "cell_type": "code",
   "execution_count": 67,
   "id": "22adc107",
   "metadata": {},
   "outputs": [
    {
     "data": {
      "text/plain": [
       "['start', '3']"
      ]
     },
     "execution_count": 67,
     "metadata": {},
     "output_type": "execute_result"
    }
   ],
   "source": [
    "start.split('=')"
   ]
  },
  {
   "cell_type": "code",
   "execution_count": 68,
   "id": "d8b13553",
   "metadata": {},
   "outputs": [
    {
     "data": {
      "text/plain": [
       "'3'"
      ]
     },
     "execution_count": 68,
     "metadata": {},
     "output_type": "execute_result"
    }
   ],
   "source": [
    "start.split('=')[1]"
   ]
  },
  {
   "cell_type": "code",
   "execution_count": 69,
   "id": "839ead19",
   "metadata": {},
   "outputs": [
    {
     "data": {
      "text/plain": [
       "'3'"
      ]
     },
     "execution_count": 69,
     "metadata": {},
     "output_type": "execute_result"
    }
   ],
   "source": [
    "start.split('=')[-1]"
   ]
  },
  {
   "cell_type": "code",
   "execution_count": 70,
   "id": "741c2770",
   "metadata": {},
   "outputs": [],
   "source": [
    "start = start.split('=')[1] # or [-1]\n",
    "end = end.split('=')[1] # or [-1]\n",
    "step = step.split('=')[1] # or [-1]"
   ]
  },
  {
   "cell_type": "code",
   "execution_count": null,
   "id": "54b52f53",
   "metadata": {},
   "outputs": [],
   "source": []
  }
 ],
 "metadata": {
  "kernelspec": {
   "display_name": "Python 3 (ipykernel)",
   "language": "python",
   "name": "python3"
  },
  "language_info": {
   "codemirror_mode": {
    "name": "ipython",
    "version": 3
   },
   "file_extension": ".py",
   "mimetype": "text/x-python",
   "name": "python",
   "nbconvert_exporter": "python",
   "pygments_lexer": "ipython3",
   "version": "3.8.16"
  }
 },
 "nbformat": 4,
 "nbformat_minor": 5
}
