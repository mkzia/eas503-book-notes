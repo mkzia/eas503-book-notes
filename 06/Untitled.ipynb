{
 "cells": [
  {
   "cell_type": "code",
   "execution_count": 72,
   "id": "7976477e",
   "metadata": {},
   "outputs": [],
   "source": [
    "header = None\n",
    "with open('soccer_players_statistics.csv', encoding=\"utf-8\") as file, open('soccer_players_statistics_alt.tsv', 'w', encoding=\"utf-8\") as file_out:\n",
    "    for line in file:\n",
    "        \n",
    "        if not line.strip():\n",
    "            continue\n",
    "\n",
    "        if not header:\n",
    "            header = line.strip().split(',')\n",
    "            continue\n",
    "\n",
    "        line = line.strip().split(',')\n",
    "\n",
    "        data = dict(zip(header, line))\n",
    "        Name = data.pop('Name')\n",
    "        \n",
    "        tmp_str = ';'.join((f'{key}={value}' if value.strip() else f'{key}=.' for key, value in data.items()))\n",
    "        \n",
    "        output_line = f'{Name}\\t{tmp_str}\\n'\n",
    "        file_out.write(output_line)"
   ]
  },
  {
   "cell_type": "code",
   "execution_count": 16,
   "id": "edf80110",
   "metadata": {},
   "outputs": [
    {
     "data": {
      "text/plain": [
       "160"
      ]
     },
     "execution_count": 16,
     "metadata": {},
     "output_type": "execute_result"
    }
   ],
   "source": [
    "def get_unique_nationalities():\n",
    "    header = None\n",
    "    unique_nationalities = []\n",
    "    with open('soccer_players_statistics.csv', encoding=\"utf-8\") as file:\n",
    "        for line in file:\n",
    "\n",
    "            if not line.strip():\n",
    "                continue\n",
    "\n",
    "            if not header:\n",
    "                header = line.strip().split(',')\n",
    "                continue\n",
    "\n",
    "            line = line.strip().split(',')\n",
    "\n",
    "            nationality = line[1]\n",
    "            if nationality not in unique_nationalities:\n",
    "                unique_nationalities.append(nationality)\n",
    "                \n",
    "    \n",
    "    unique_nationalities.sort()\n",
    "    \n",
    "    return unique_nationalities\n",
    "        \n",
    "len(get_unique_nationalities())\n",
    "\n",
    "        \n",
    "    "
   ]
  },
  {
   "cell_type": "code",
   "execution_count": 29,
   "id": "bb0eb132",
   "metadata": {},
   "outputs": [
    {
     "data": {
      "text/plain": [
       "['45',\n",
       " '46',\n",
       " '47',\n",
       " '48',\n",
       " '49',\n",
       " '50',\n",
       " '51',\n",
       " '52',\n",
       " '53',\n",
       " '54',\n",
       " '55',\n",
       " '56',\n",
       " '57',\n",
       " '58',\n",
       " '59',\n",
       " '60',\n",
       " '61',\n",
       " '62',\n",
       " '63',\n",
       " '64',\n",
       " '65',\n",
       " '66',\n",
       " '67',\n",
       " '68',\n",
       " '69',\n",
       " '70',\n",
       " '71',\n",
       " '72',\n",
       " '73',\n",
       " '74',\n",
       " '75',\n",
       " '76',\n",
       " '77',\n",
       " '78',\n",
       " '79',\n",
       " '80',\n",
       " '81',\n",
       " '82',\n",
       " '83',\n",
       " '84',\n",
       " '85',\n",
       " '86',\n",
       " '87',\n",
       " '88',\n",
       " '89',\n",
       " '90',\n",
       " '92',\n",
       " '93',\n",
       " '94']"
      ]
     },
     "execution_count": 29,
     "metadata": {},
     "output_type": "execute_result"
    }
   ],
   "source": [
    "def get_unique_values_by_column_name(column_name):\n",
    "    header = None\n",
    "    unique_values = []\n",
    "    with open('soccer_players_statistics.csv', encoding=\"utf-8\") as file:\n",
    "        for line in file:\n",
    "\n",
    "            if not line.strip():\n",
    "                continue\n",
    "\n",
    "            if not header:\n",
    "                header = line.strip().split(',')\n",
    "                try:\n",
    "                    column_index = header.index(column_name)\n",
    "                except:\n",
    "                    print(f'Column Name {column_name} not found!')\n",
    "                    return False\n",
    "                continue\n",
    "\n",
    "            line = line.strip().split(',')\n",
    "\n",
    "            value = line[column_index]\n",
    "            if value and value not in unique_values:\n",
    "                unique_values.append(value)\n",
    "                \n",
    "    \n",
    "    unique_values.sort()\n",
    "    \n",
    "    return unique_values\n",
    "        \n",
    "get_unique_values_by_column_name('Rating')"
   ]
  },
  {
   "cell_type": "code",
   "execution_count": 32,
   "id": "a5cb8bac",
   "metadata": {},
   "outputs": [],
   "source": [
    "def mean(number_sequence):\n",
    "    return round(sum(number_sequence)/len(number_sequence), 2)"
   ]
  },
  {
   "cell_type": "code",
   "execution_count": 38,
   "id": "43aebefa",
   "metadata": {},
   "outputs": [
    {
     "data": {
      "text/plain": [
       "(45.0, 94.0, 69.06)"
      ]
     },
     "execution_count": 38,
     "metadata": {},
     "output_type": "execute_result"
    }
   ],
   "source": [
    "def stats(column_name):\n",
    "    values = get_unique_values_by_column_name(column_name)\n",
    "    values = [float(value) for value in values]\n",
    "    return (min(values), max(values), mean(values))\n",
    "    \n",
    "stats('Rating')"
   ]
  },
  {
   "cell_type": "code",
   "execution_count": 43,
   "id": "5ff1d640",
   "metadata": {},
   "outputs": [],
   "source": [
    "def extract_columns(column_names):\n",
    "    header = None\n",
    "    values = []\n",
    "    with open('soccer_players_statistics.csv', encoding=\"utf-8\") as file:\n",
    "        for line in file:\n",
    "\n",
    "            if not line.strip():\n",
    "                continue\n",
    "\n",
    "            if not header:\n",
    "                header = line.strip().split(',')\n",
    "                try:\n",
    "                    column_indicies = []\n",
    "                    for column_name in column_names:\n",
    "                        column_index = header.index(column_name)\n",
    "                        column_indicies.append(column_index)\n",
    "                except:\n",
    "                    print(f'Column Name {column_name} not found!')\n",
    "                    return False\n",
    "                continue\n",
    "\n",
    "            line = line.strip().split(',')\n",
    "            column_data = []\n",
    "            for column_index in column_indicies:\n",
    "                column_data.append(line[column_index])\n",
    "                \n",
    "            values.append(column_data)\n",
    "            \n",
    "    return values\n",
    "    "
   ]
  },
  {
   "cell_type": "code",
   "execution_count": 59,
   "id": "1a9affc4",
   "metadata": {},
   "outputs": [],
   "source": [
    "column_data = extract_columns(['Club_Joining', 'Contract_Expiry'])"
   ]
  },
  {
   "cell_type": "code",
   "execution_count": 61,
   "id": "552ea2e7",
   "metadata": {},
   "outputs": [
    {
     "name": "stdout",
     "output_type": "stream",
     "text": [
      "0 30\n"
     ]
    }
   ],
   "source": [
    "min_val = float('inf')\n",
    "max_val = float('-inf')\n",
    "for join_date, expiry_year in column_data:\n",
    "    if not expiry_year.strip():\n",
    "        continue\n",
    "    if not join_date.strip():\n",
    "        continue\n",
    "    \n",
    "    expiry_year = int(float(expiry_year))\n",
    "    month, day, year = join_date.split('/')\n",
    "    join_year = int(year)\n",
    "    difference = abs(join_year-expiry_year)\n",
    "    if difference < min_val:\n",
    "        min_val = difference\n",
    "        \n",
    "    if difference > max_val:\n",
    "        max_val = difference\n",
    "print(min_val, max_val)"
   ]
  },
  {
   "cell_type": "code",
   "execution_count": 55,
   "id": "32afa0a3",
   "metadata": {},
   "outputs": [],
   "source": [
    "min_val = float('inf')"
   ]
  },
  {
   "cell_type": "code",
   "execution_count": 56,
   "id": "96451ab4",
   "metadata": {},
   "outputs": [
    {
     "data": {
      "text/plain": [
       "inf"
      ]
     },
     "execution_count": 56,
     "metadata": {},
     "output_type": "execute_result"
    }
   ],
   "source": [
    "min_val"
   ]
  },
  {
   "cell_type": "code",
   "execution_count": 67,
   "id": "39b0786d",
   "metadata": {},
   "outputs": [
    {
     "name": "stdout",
     "output_type": "stream",
     "text": [
      "Cristiano Ronaldo Nationality Portugal\n",
      "Cristiano Ronaldo National_Position LS\n",
      "Cristiano Ronaldo National_Kit 7.0\n",
      "Cristiano Ronaldo Club Real Madrid\n",
      "Cristiano Ronaldo Club_Position LW\n",
      "Cristiano Ronaldo Club_Kit 7.0\n",
      "Cristiano Ronaldo Club_Joining 07/01/2009\n",
      "Cristiano Ronaldo Contract_Expiry 2021.0\n",
      "Cristiano Ronaldo Rating 94\n",
      "Cristiano Ronaldo Height 185 cm\n",
      "Cristiano Ronaldo Weight 80 kg\n",
      "Cristiano Ronaldo Preffered_Foot Right\n",
      "Cristiano Ronaldo Birth_Date 02/05/1985\n",
      "Cristiano Ronaldo Age 32\n",
      "Cristiano Ronaldo Preffered_Position LW/ST\n",
      "Cristiano Ronaldo Work_Rate High / Low\n",
      "Cristiano Ronaldo Weak_foot 4\n",
      "Cristiano Ronaldo Skill_Moves 5\n",
      "Cristiano Ronaldo Ball_Control 93\n",
      "Cristiano Ronaldo Dribbling 92\n",
      "Cristiano Ronaldo Marking 22\n",
      "Cristiano Ronaldo Sliding_Tackle 23\n",
      "Cristiano Ronaldo Standing_Tackle 31\n",
      "Cristiano Ronaldo Aggression 63\n",
      "Cristiano Ronaldo Reactions 96\n",
      "Cristiano Ronaldo Attacking_Position 94\n",
      "Cristiano Ronaldo Interceptions 29\n",
      "Cristiano Ronaldo Vision 85\n",
      "Cristiano Ronaldo Composure 86\n",
      "Cristiano Ronaldo Crossing 84\n",
      "Cristiano Ronaldo Short_Pass 83\n",
      "Cristiano Ronaldo Long_Pass 77\n",
      "Cristiano Ronaldo Acceleration 91\n",
      "Cristiano Ronaldo Speed 92\n",
      "Cristiano Ronaldo Stamina 92\n",
      "Cristiano Ronaldo Strength 80\n",
      "Cristiano Ronaldo Balance 63\n",
      "Cristiano Ronaldo Agility 90\n",
      "Cristiano Ronaldo Jumping 95\n",
      "Cristiano Ronaldo Heading 85\n",
      "Cristiano Ronaldo Shot_Power 92\n",
      "Cristiano Ronaldo Finishing 93\n",
      "Cristiano Ronaldo Long_Shots 90\n",
      "Cristiano Ronaldo Curve 81\n",
      "Cristiano Ronaldo Freekick_Accuracy 76\n",
      "Cristiano Ronaldo Penalties 85\n",
      "Cristiano Ronaldo Volleys 88\n",
      "Cristiano Ronaldo GK_Positioning 14\n",
      "Cristiano Ronaldo GK_Diving 7\n",
      "Cristiano Ronaldo GK_Kicking 15\n",
      "Cristiano Ronaldo GK_Handling 11\n",
      "Cristiano Ronaldo GK_Reflexes 11\n"
     ]
    }
   ],
   "source": [
    "large_string = \"Cristiano Ronaldo\tNationality=Portugal;National_Position=LS;National_Kit=7.0;Club=Real Madrid;Club_Position=LW;Club_Kit=7.0;Club_Joining=07/01/2009;Contract_Expiry=2021.0;Rating=94;Height=185 cm;Weight=80 kg;Preffered_Foot=Right;Birth_Date=02/05/1985;Age=32;Preffered_Position=LW/ST;Work_Rate=High / Low;Weak_foot=4;Skill_Moves=5;Ball_Control=93;Dribbling=92;Marking=22;Sliding_Tackle=23;Standing_Tackle=31;Aggression=63;Reactions=96;Attacking_Position=94;Interceptions=29;Vision=85;Composure=86;Crossing=84;Short_Pass=83;Long_Pass=77;Acceleration=91;Speed=92;Stamina=92;Strength=80;Balance=63;Agility=90;Jumping=95;Heading=85;Shot_Power=92;Finishing=93;Long_Shots=90;Curve=81;Freekick_Accuracy=76;Penalties=85;Volleys=88;GK_Positioning=14;GK_Diving=7;GK_Kicking=15;GK_Handling=11;GK_Reflexes=11\"\n",
    "name, string = large_string.split('\\t')\n",
    "for key_value in string.split(';'):\n",
    "    key, value = key_value.split('=')\n",
    "    print(name, key, value)\n",
    "        "
   ]
  },
  {
   "cell_type": "code",
   "execution_count": 78,
   "id": "18f36151",
   "metadata": {},
   "outputs": [
    {
     "name": "stdout",
     "output_type": "stream",
     "text": [
      "HHTHTTHHHT\n"
     ]
    }
   ],
   "source": [
    "def coin_toss(number):\n",
    "    import random\n",
    "    random.seed(503)\n",
    "    output = ''\n",
    "    for i in range(number):\n",
    "        toss = random.randint(0, 1)\n",
    "\n",
    "        if toss == 0:\n",
    "            output += 'H'\n",
    "        else:\n",
    "            output += 'T'\n",
    "\n",
    "    return output\n",
    "\n",
    "\n",
    "print(coin_toss(10))"
   ]
  },
  {
   "cell_type": "code",
   "execution_count": 80,
   "id": "a25dc8d3",
   "metadata": {},
   "outputs": [
    {
     "name": "stdout",
     "output_type": "stream",
     "text": [
      "524 476\n",
      "(0.524, 0.476)\n"
     ]
    }
   ],
   "source": [
    "def coin_toss_probability(number):\n",
    "    result = coin_toss(number)\n",
    "    head_count = 0\n",
    "    tail_count = 0\n",
    "\n",
    "    for ele in result:\n",
    "        if ele == 'H':\n",
    "            head_count += 1\n",
    "        elif ele == 'T':\n",
    "            tail_count += 1\n",
    "\n",
    "    print(head_count, tail_count)\n",
    "    return (head_count / len(result), tail_count / len(result))\n",
    "\n",
    "\n",
    "print(coin_toss_probability(1000))"
   ]
  },
  {
   "cell_type": "code",
   "execution_count": null,
   "id": "777e5758",
   "metadata": {},
   "outputs": [],
   "source": []
  }
 ],
 "metadata": {
  "kernelspec": {
   "display_name": "Python 3 (ipykernel)",
   "language": "python",
   "name": "python3"
  },
  "language_info": {
   "codemirror_mode": {
    "name": "ipython",
    "version": 3
   },
   "file_extension": ".py",
   "mimetype": "text/x-python",
   "name": "python",
   "nbconvert_exporter": "python",
   "pygments_lexer": "ipython3",
   "version": "3.8.16"
  }
 },
 "nbformat": 4,
 "nbformat_minor": 5
}
