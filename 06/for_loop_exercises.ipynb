{
 "cells": [
  {
   "cell_type": "code",
   "execution_count": 2,
   "id": "fc98cdd8",
   "metadata": {},
   "outputs": [
    {
     "data": {
      "text/plain": [
       "10"
      ]
     },
     "execution_count": 2,
     "metadata": {},
     "output_type": "execute_result"
    }
   ],
   "source": [
    "x = [1, 2, 3, 4]\n",
    "\n",
    "def sum_list(input_list):\n",
    "    total = 0\n",
    "    for number in input_list:\n",
    "        total += number\n",
    "        \n",
    "    return total\n",
    "\n",
    "sum_list(x)"
   ]
  },
  {
   "cell_type": "code",
   "execution_count": 3,
   "id": "c160cc7f",
   "metadata": {},
   "outputs": [
    {
     "data": {
      "text/plain": [
       "10"
      ]
     },
     "execution_count": 3,
     "metadata": {},
     "output_type": "execute_result"
    }
   ],
   "source": [
    "sum(x)"
   ]
  },
  {
   "cell_type": "code",
   "execution_count": 4,
   "id": "525b092a",
   "metadata": {},
   "outputs": [
    {
     "data": {
      "text/plain": [
       "2.5"
      ]
     },
     "execution_count": 4,
     "metadata": {},
     "output_type": "execute_result"
    }
   ],
   "source": [
    "def average(lst):\n",
    "    total = 0\n",
    "    count = 0\n",
    "    for ele in lst:\n",
    "        total += ele\n",
    "        count += 1\n",
    "        \n",
    "    avg = round(total / count, 2)\n",
    "    return avg\n",
    "average(x)"
   ]
  },
  {
   "cell_type": "code",
   "execution_count": 5,
   "id": "48d06fa4",
   "metadata": {},
   "outputs": [
    {
     "data": {
      "text/plain": [
       "2.5"
      ]
     },
     "execution_count": 5,
     "metadata": {},
     "output_type": "execute_result"
    }
   ],
   "source": [
    "def average(lst):\n",
    "    return sum(lst)/len(lst)\n",
    "average(x)"
   ]
  },
  {
   "cell_type": "code",
   "execution_count": 8,
   "id": "23414acf",
   "metadata": {},
   "outputs": [
    {
     "data": {
      "text/plain": [
       "[2, 4, 6, 8]"
      ]
     },
     "execution_count": 8,
     "metadata": {},
     "output_type": "execute_result"
    }
   ],
   "source": [
    "def list2x(lst):\n",
    "    new_lst = []\n",
    "    for ele in lst:\n",
    "        new_lst.append(ele*2)\n",
    "        \n",
    "    return new_lst\n",
    "    \n",
    "list2x(x)"
   ]
  },
  {
   "cell_type": "code",
   "execution_count": 9,
   "id": "3d4aac0a",
   "metadata": {},
   "outputs": [
    {
     "data": {
      "text/plain": [
       "[1, 8, 27, 64]"
      ]
     },
     "execution_count": 9,
     "metadata": {},
     "output_type": "execute_result"
    }
   ],
   "source": [
    "def my_pow(lst, power):\n",
    "    new_lst = []\n",
    "    for ele in lst:\n",
    "        new_lst.append(ele**power)\n",
    "        \n",
    "    return new_lst\n",
    "\n",
    "my_pow(x, 3)"
   ]
  },
  {
   "cell_type": "code",
   "execution_count": 10,
   "id": "a8a9cb5e",
   "metadata": {},
   "outputs": [
    {
     "data": {
      "text/plain": [
       "[1, 2, 3, 4, 5, 6, 7]"
      ]
     },
     "execution_count": 10,
     "metadata": {},
     "output_type": "execute_result"
    }
   ],
   "source": [
    "def remove_duplicates(lst):\n",
    "    unique_values = []\n",
    "    for ele in lst:\n",
    "        if ele not in unique_values:\n",
    "            unique_values.append(ele)\n",
    "            \n",
    "    return unique_values\n",
    "\n",
    "remove_duplicates([1, 1, 2, 3, 4, 5, 5, 6, 7, 7])"
   ]
  },
  {
   "cell_type": "code",
   "execution_count": 12,
   "id": "2c1799a4",
   "metadata": {},
   "outputs": [
    {
     "data": {
      "text/plain": [
       "78.8"
      ]
     },
     "execution_count": 12,
     "metadata": {},
     "output_type": "execute_result"
    }
   ],
   "source": [
    "def calc_file_avg1(filename):\n",
    "    values = []\n",
    "    with open(filename) as file:\n",
    "        for line in file:\n",
    "            values.append(int(line.strip()))\n",
    "            \n",
    "    return round(sum(values)/len(values),2)\n",
    "\n",
    "    \n",
    "            \n",
    "calc_file_avg1('for_ex7_data1.txt')"
   ]
  },
  {
   "cell_type": "code",
   "execution_count": 13,
   "id": "3788e43c",
   "metadata": {},
   "outputs": [
    {
     "ename": "ValueError",
     "evalue": "invalid literal for int() with base 10: ''",
     "output_type": "error",
     "traceback": [
      "\u001b[1;31m---------------------------------------------------------------------------\u001b[0m",
      "\u001b[1;31mValueError\u001b[0m                                Traceback (most recent call last)",
      "\u001b[1;32m~\\AppData\\Local\\Temp\\ipykernel_28832\\3589172422.py\u001b[0m in \u001b[0;36m<module>\u001b[1;34m\u001b[0m\n\u001b[1;32m----> 1\u001b[1;33m \u001b[0mcalc_file_avg1\u001b[0m\u001b[1;33m(\u001b[0m\u001b[1;34m'for_ex7_data2.txt'\u001b[0m\u001b[1;33m)\u001b[0m\u001b[1;33m\u001b[0m\u001b[1;33m\u001b[0m\u001b[0m\n\u001b[0m",
      "\u001b[1;32m~\\AppData\\Local\\Temp\\ipykernel_28832\\2982834285.py\u001b[0m in \u001b[0;36mcalc_file_avg1\u001b[1;34m(filename)\u001b[0m\n\u001b[0;32m      3\u001b[0m     \u001b[1;32mwith\u001b[0m \u001b[0mopen\u001b[0m\u001b[1;33m(\u001b[0m\u001b[0mfilename\u001b[0m\u001b[1;33m)\u001b[0m \u001b[1;32mas\u001b[0m \u001b[0mfile\u001b[0m\u001b[1;33m:\u001b[0m\u001b[1;33m\u001b[0m\u001b[1;33m\u001b[0m\u001b[0m\n\u001b[0;32m      4\u001b[0m         \u001b[1;32mfor\u001b[0m \u001b[0mline\u001b[0m \u001b[1;32min\u001b[0m \u001b[0mfile\u001b[0m\u001b[1;33m:\u001b[0m\u001b[1;33m\u001b[0m\u001b[1;33m\u001b[0m\u001b[0m\n\u001b[1;32m----> 5\u001b[1;33m             \u001b[0mvalues\u001b[0m\u001b[1;33m.\u001b[0m\u001b[0mappend\u001b[0m\u001b[1;33m(\u001b[0m\u001b[0mint\u001b[0m\u001b[1;33m(\u001b[0m\u001b[0mline\u001b[0m\u001b[1;33m.\u001b[0m\u001b[0mstrip\u001b[0m\u001b[1;33m(\u001b[0m\u001b[1;33m)\u001b[0m\u001b[1;33m)\u001b[0m\u001b[1;33m)\u001b[0m\u001b[1;33m\u001b[0m\u001b[1;33m\u001b[0m\u001b[0m\n\u001b[0m\u001b[0;32m      6\u001b[0m \u001b[1;33m\u001b[0m\u001b[0m\n\u001b[0;32m      7\u001b[0m     \u001b[1;32mreturn\u001b[0m \u001b[0mround\u001b[0m\u001b[1;33m(\u001b[0m\u001b[0msum\u001b[0m\u001b[1;33m(\u001b[0m\u001b[0mvalues\u001b[0m\u001b[1;33m)\u001b[0m\u001b[1;33m/\u001b[0m\u001b[0mlen\u001b[0m\u001b[1;33m(\u001b[0m\u001b[0mvalues\u001b[0m\u001b[1;33m)\u001b[0m\u001b[1;33m,\u001b[0m\u001b[1;36m2\u001b[0m\u001b[1;33m)\u001b[0m\u001b[1;33m\u001b[0m\u001b[1;33m\u001b[0m\u001b[0m\n",
      "\u001b[1;31mValueError\u001b[0m: invalid literal for int() with base 10: ''"
     ]
    }
   ],
   "source": [
    "calc_file_avg1('for_ex7_data2.txt')"
   ]
  },
  {
   "cell_type": "code",
   "execution_count": 14,
   "id": "2108dfeb",
   "metadata": {},
   "outputs": [
    {
     "data": {
      "text/plain": [
       "64.43"
      ]
     },
     "execution_count": 14,
     "metadata": {},
     "output_type": "execute_result"
    }
   ],
   "source": [
    "def calc_file_avg2(filename):\n",
    "    values = []\n",
    "    with open(filename) as file:\n",
    "        for line in file:\n",
    "            if not line.strip():\n",
    "                continue\n",
    "            values.append(int(line.strip()))\n",
    "            \n",
    "    return round(sum(values)/len(values),2)\n",
    "\n",
    "calc_file_avg2('for_ex7_data2.txt')    "
   ]
  },
  {
   "cell_type": "code",
   "execution_count": 15,
   "id": "b6ed27a4",
   "metadata": {},
   "outputs": [
    {
     "name": "stdout",
     "output_type": "stream",
     "text": [
      "Bad value found 99.o.\n",
      "Bad value found AAB.\n",
      "Bad value found 9A.00.\n"
     ]
    },
    {
     "data": {
      "text/plain": [
       "75.43"
      ]
     },
     "execution_count": 15,
     "metadata": {},
     "output_type": "execute_result"
    }
   ],
   "source": [
    "def calc_file_avg3(filename):\n",
    "    values = []\n",
    "    with open(filename) as file:\n",
    "        for line in file:\n",
    "            if not line.strip():\n",
    "                continue\n",
    "            try:\n",
    "                value = float(line)\n",
    "            except:\n",
    "                print(f'Bad value found {line.strip()}.')\n",
    "                continue\n",
    "                \n",
    "            values.append(value)\n",
    "            \n",
    "    return round(sum(values)/len(values),2)\n",
    "calc_file_avg3('for_ex7_data3.txt')    "
   ]
  },
  {
   "cell_type": "code",
   "execution_count": null,
   "id": "1e196227",
   "metadata": {},
   "outputs": [],
   "source": []
  }
 ],
 "metadata": {
  "kernelspec": {
   "display_name": "Python 3 (ipykernel)",
   "language": "python",
   "name": "python3"
  },
  "language_info": {
   "codemirror_mode": {
    "name": "ipython",
    "version": 3
   },
   "file_extension": ".py",
   "mimetype": "text/x-python",
   "name": "python",
   "nbconvert_exporter": "python",
   "pygments_lexer": "ipython3",
   "version": "3.8.16"
  }
 },
 "nbformat": 4,
 "nbformat_minor": 5
}
