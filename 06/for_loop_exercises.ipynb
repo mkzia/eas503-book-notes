{
 "cells": [
  {
   "cell_type": "code",
   "execution_count": 2,
   "id": "631bd479",
   "metadata": {},
   "outputs": [
    {
     "data": {
      "text/plain": [
       "10"
      ]
     },
     "execution_count": 2,
     "metadata": {},
     "output_type": "execute_result"
    }
   ],
   "source": [
    "x = [1, 2, 3, 4]\n",
    "\n",
    "def sum_list(input_list):\n",
    "    total = 0\n",
    "    for number in input_list:\n",
    "        total += number\n",
    "        \n",
    "    return total\n",
    "\n",
    "sum_list(x)"
   ]
  },
  {
   "cell_type": "code",
   "execution_count": 3,
   "id": "6643f705",
   "metadata": {},
   "outputs": [
    {
     "data": {
      "text/plain": [
       "10"
      ]
     },
     "execution_count": 3,
     "metadata": {},
     "output_type": "execute_result"
    }
   ],
   "source": [
    "sum(x)"
   ]
  },
  {
   "cell_type": "code",
   "execution_count": 4,
   "id": "2791e3ed",
   "metadata": {},
   "outputs": [
    {
     "data": {
      "text/plain": [
       "2.5"
      ]
     },
     "execution_count": 4,
     "metadata": {},
     "output_type": "execute_result"
    }
   ],
   "source": [
    "def average(lst):\n",
    "    total = 0\n",
    "    count = 0\n",
    "    for ele in lst:\n",
    "        total += ele\n",
    "        count += 1\n",
    "        \n",
    "    avg = round(total / count, 2)\n",
    "    return avg\n",
    "average(x)"
   ]
  },
  {
   "cell_type": "code",
   "execution_count": 5,
   "id": "b88fd88a",
   "metadata": {},
   "outputs": [
    {
     "data": {
      "text/plain": [
       "2.5"
      ]
     },
     "execution_count": 5,
     "metadata": {},
     "output_type": "execute_result"
    }
   ],
   "source": [
    "def average(lst):\n",
    "    return sum(lst)/len(lst)\n",
    "average(x)"
   ]
  },
  {
   "cell_type": "code",
   "execution_count": 8,
   "id": "71e881a1",
   "metadata": {},
   "outputs": [
    {
     "data": {
      "text/plain": [
       "[2, 4, 6, 8]"
      ]
     },
     "execution_count": 8,
     "metadata": {},
     "output_type": "execute_result"
    }
   ],
   "source": [
    "def list2x(lst):\n",
    "    new_lst = []\n",
    "    for ele in lst:\n",
    "        new_lst.append(ele*2)\n",
    "        \n",
    "    return new_lst\n",
    "    \n",
    "list2x(x)"
   ]
  },
  {
   "cell_type": "code",
   "execution_count": 9,
   "id": "8bb63af3",
   "metadata": {},
   "outputs": [
    {
     "data": {
      "text/plain": [
       "[1, 8, 27, 64]"
      ]
     },
     "execution_count": 9,
     "metadata": {},
     "output_type": "execute_result"
    }
   ],
   "source": [
    "def my_pow(lst, power):\n",
    "    new_lst = []\n",
    "    for ele in lst:\n",
    "        new_lst.append(ele**power)\n",
    "        \n",
    "    return new_lst\n",
    "\n",
    "my_pow(x, 3)"
   ]
  },
  {
   "cell_type": "code",
   "execution_count": 10,
   "id": "11251b2c",
   "metadata": {},
   "outputs": [
    {
     "data": {
      "text/plain": [
       "[1, 2, 3, 4, 5, 6, 7]"
      ]
     },
     "execution_count": 10,
     "metadata": {},
     "output_type": "execute_result"
    }
   ],
   "source": [
    "def remove_duplicates(lst):\n",
    "    unique_values = []\n",
    "    for ele in lst:\n",
    "        if ele not in unique_values:\n",
    "            unique_values.append(ele)\n",
    "            \n",
    "    return unique_values\n",
    "\n",
    "remove_duplicates([1, 1, 2, 3, 4, 5, 5, 6, 7, 7])"
   ]
  },
  {
   "cell_type": "code",
   "execution_count": 12,
   "id": "7460bc7f",
   "metadata": {},
   "outputs": [
    {
     "data": {
      "text/plain": [
       "78.8"
      ]
     },
     "execution_count": 12,
     "metadata": {},
     "output_type": "execute_result"
    }
   ],
   "source": [
    "def calc_file_avg1(filename):\n",
    "    values = []\n",
    "    with open(filename) as file:\n",
    "        for line in file:\n",
    "            values.append(int(line.strip()))\n",
    "            \n",
    "    return round(sum(values)/len(values),2)\n",
    "\n",
    "    \n",
    "            \n",
    "calc_file_avg1('for_ex7_data1.txt')"
   ]
  },
  {
   "cell_type": "code",
   "execution_count": 13,
   "id": "96496ef1",
   "metadata": {},
   "outputs": [
    {
     "ename": "ValueError",
     "evalue": "invalid literal for int() with base 10: ''",
     "output_type": "error",
     "traceback": [
      "\u001b[1;31m---------------------------------------------------------------------------\u001b[0m",
      "\u001b[1;31mValueError\u001b[0m                                Traceback (most recent call last)",
      "\u001b[1;32m~\\AppData\\Local\\Temp\\ipykernel_28832\\3589172422.py\u001b[0m in \u001b[0;36m<module>\u001b[1;34m\u001b[0m\n\u001b[1;32m----> 1\u001b[1;33m \u001b[0mcalc_file_avg1\u001b[0m\u001b[1;33m(\u001b[0m\u001b[1;34m'for_ex7_data2.txt'\u001b[0m\u001b[1;33m)\u001b[0m\u001b[1;33m\u001b[0m\u001b[1;33m\u001b[0m\u001b[0m\n\u001b[0m",
      "\u001b[1;32m~\\AppData\\Local\\Temp\\ipykernel_28832\\2982834285.py\u001b[0m in \u001b[0;36mcalc_file_avg1\u001b[1;34m(filename)\u001b[0m\n\u001b[0;32m      3\u001b[0m     \u001b[1;32mwith\u001b[0m \u001b[0mopen\u001b[0m\u001b[1;33m(\u001b[0m\u001b[0mfilename\u001b[0m\u001b[1;33m)\u001b[0m \u001b[1;32mas\u001b[0m \u001b[0mfile\u001b[0m\u001b[1;33m:\u001b[0m\u001b[1;33m\u001b[0m\u001b[1;33m\u001b[0m\u001b[0m\n\u001b[0;32m      4\u001b[0m         \u001b[1;32mfor\u001b[0m \u001b[0mline\u001b[0m \u001b[1;32min\u001b[0m \u001b[0mfile\u001b[0m\u001b[1;33m:\u001b[0m\u001b[1;33m\u001b[0m\u001b[1;33m\u001b[0m\u001b[0m\n\u001b[1;32m----> 5\u001b[1;33m             \u001b[0mvalues\u001b[0m\u001b[1;33m.\u001b[0m\u001b[0mappend\u001b[0m\u001b[1;33m(\u001b[0m\u001b[0mint\u001b[0m\u001b[1;33m(\u001b[0m\u001b[0mline\u001b[0m\u001b[1;33m.\u001b[0m\u001b[0mstrip\u001b[0m\u001b[1;33m(\u001b[0m\u001b[1;33m)\u001b[0m\u001b[1;33m)\u001b[0m\u001b[1;33m)\u001b[0m\u001b[1;33m\u001b[0m\u001b[1;33m\u001b[0m\u001b[0m\n\u001b[0m\u001b[0;32m      6\u001b[0m \u001b[1;33m\u001b[0m\u001b[0m\n\u001b[0;32m      7\u001b[0m     \u001b[1;32mreturn\u001b[0m \u001b[0mround\u001b[0m\u001b[1;33m(\u001b[0m\u001b[0msum\u001b[0m\u001b[1;33m(\u001b[0m\u001b[0mvalues\u001b[0m\u001b[1;33m)\u001b[0m\u001b[1;33m/\u001b[0m\u001b[0mlen\u001b[0m\u001b[1;33m(\u001b[0m\u001b[0mvalues\u001b[0m\u001b[1;33m)\u001b[0m\u001b[1;33m,\u001b[0m\u001b[1;36m2\u001b[0m\u001b[1;33m)\u001b[0m\u001b[1;33m\u001b[0m\u001b[1;33m\u001b[0m\u001b[0m\n",
      "\u001b[1;31mValueError\u001b[0m: invalid literal for int() with base 10: ''"
     ]
    }
   ],
   "source": [
    "calc_file_avg1('for_ex7_data2.txt')"
   ]
  },
  {
   "cell_type": "code",
   "execution_count": 14,
   "id": "1ce19db4",
   "metadata": {},
   "outputs": [
    {
     "data": {
      "text/plain": [
       "64.43"
      ]
     },
     "execution_count": 14,
     "metadata": {},
     "output_type": "execute_result"
    }
   ],
   "source": [
    "def calc_file_avg2(filename):\n",
    "    values = []\n",
    "    with open(filename) as file:\n",
    "        for line in file:\n",
    "            if not line.strip():\n",
    "                continue\n",
    "            values.append(int(line.strip()))\n",
    "            \n",
    "    return round(sum(values)/len(values),2)\n",
    "\n",
    "calc_file_avg2('for_ex7_data2.txt')    "
   ]
  },
  {
   "cell_type": "code",
   "execution_count": 16,
   "id": "2aae8d04",
   "metadata": {},
   "outputs": [
    {
     "name": "stdout",
     "output_type": "stream",
     "text": [
      "Bad value found 99.o.\n",
      "Bad value found AAB.\n",
      "Bad value found 9A.00.\n"
     ]
    },
    {
     "data": {
      "text/plain": [
       "75.43"
      ]
     },
     "execution_count": 16,
     "metadata": {},
     "output_type": "execute_result"
    }
   ],
   "source": [
    "def calc_file_avg3(filename):\n",
    "    values = []\n",
    "    with open(filename) as file:\n",
    "        for line in file:\n",
    "            if not line.strip():\n",
    "                continue\n",
    "            try:\n",
    "                value = float(line)\n",
    "            except:\n",
    "                print(f'Bad value found {line.strip()}.')\n",
    "                continue\n",
    "                \n",
    "            values.append(value)\n",
    "            \n",
    "    return round(sum(values)/len(values),2)\n",
    "calc_file_avg3('for_ex7_data3.txt')    "
   ]
  },
  {
   "cell_type": "code",
   "execution_count": 34,
   "id": "2d39ac01",
   "metadata": {},
   "outputs": [
    {
     "name": "stdout",
     "output_type": "stream",
     "text": [
      "2\n",
      "2\n",
      "5\n",
      "3\n",
      "6\n",
      "4\n",
      "2\n",
      "10\n",
      "0\n",
      "0\n"
     ]
    }
   ],
   "source": [
    "import random\n",
    "random.seed(503)\n",
    "for _ in range(10):\n",
    "    print(random.randint(0, 10))"
   ]
  },
  {
   "cell_type": "code",
   "execution_count": null,
   "id": "728e13e7",
   "metadata": {},
   "outputs": [],
   "source": [
    "0\n",
    "0\n",
    "1\n",
    "0\n",
    "1\n",
    "1\n",
    "0\n",
    "0\n",
    "0\n",
    "1"
   ]
  },
  {
   "cell_type": "code",
   "execution_count": 44,
   "id": "f85eeb49",
   "metadata": {},
   "outputs": [
    {
     "data": {
      "text/plain": [
       "'HHHTTHHTTT'"
      ]
     },
     "execution_count": 44,
     "metadata": {},
     "output_type": "execute_result"
    }
   ],
   "source": [
    "# 0 --> head\n",
    "# 1 --> tail\n",
    "\n",
    "def coin_toss(n):\n",
    "    import random\n",
    "#     random.seed(503)\n",
    "    \n",
    "    results = ''\n",
    "    for _ in range(n):\n",
    "        toss = random.randint(0,1)\n",
    "        \n",
    "        if toss == 0:\n",
    "            toss = 'H'\n",
    "        else:\n",
    "            toss = 'T'\n",
    "            \n",
    "        results += toss\n",
    "        \n",
    "    return results\n",
    "    \n",
    "coin_toss(10)"
   ]
  },
  {
   "cell_type": "code",
   "execution_count": 66,
   "id": "7b46e2fb",
   "metadata": {},
   "outputs": [
    {
     "data": {
      "text/plain": [
       "(0.501514, 0.498486)"
      ]
     },
     "execution_count": 66,
     "metadata": {},
     "output_type": "execute_result"
    }
   ],
   "source": [
    "def coin_toss_probability(n):\n",
    "    results = coin_toss(n)\n",
    "    \n",
    "    head_count = 0\n",
    "    tail_count = 0\n",
    "    \n",
    "    for char in results:\n",
    "        if char == 'H':\n",
    "            head_count += 1\n",
    "        else:\n",
    "            tail_count += 1\n",
    "    \n",
    "    no_results = len(results)\n",
    "    return (head_count/no_results, tail_count/no_results)\n",
    "\n",
    "coin_toss_probability(1000000)"
   ]
  },
  {
   "cell_type": "code",
   "execution_count": 74,
   "id": "ba07389b",
   "metadata": {},
   "outputs": [
    {
     "name": "stdout",
     "output_type": "stream",
     "text": [
      "student1 68.125\n",
      "student2 79.6\n",
      "student3 85.8\n",
      "student4 78.8\n",
      "student5 83.4\n",
      "student6 73.8\n",
      "student7 81.6\n",
      "student8 90.0\n",
      "student9 87.0\n",
      "student10 78.2\n"
     ]
    }
   ],
   "source": [
    "def print_student_average(filename):\n",
    "    with open(filename) as file:\n",
    "        for line in file:\n",
    "            if not line.strip():\n",
    "                continue\n",
    "                \n",
    "            name, *grades = line.strip().split(',')\n",
    "            \n",
    "            grades_converted = []\n",
    "            for grade in grades:\n",
    "                grades_converted.append(int(grade))\n",
    "            average = sum(grades_converted)/len(grades_converted)\n",
    "            print(name, average)\n",
    "\n",
    "print_student_average('for_ex11_data.txt')"
   ]
  },
  {
   "cell_type": "code",
   "execution_count": 67,
   "id": "18f268a6",
   "metadata": {},
   "outputs": [],
   "source": [
    "x = [1, 2, 3, 4]\n",
    "\n",
    "a, *rest = x"
   ]
  },
  {
   "cell_type": "code",
   "execution_count": 68,
   "id": "9a373464",
   "metadata": {},
   "outputs": [
    {
     "name": "stdout",
     "output_type": "stream",
     "text": [
      "1 [2, 3, 4]\n"
     ]
    }
   ],
   "source": [
    "print(a, rest)"
   ]
  },
  {
   "cell_type": "code",
   "execution_count": 70,
   "id": "044c6742",
   "metadata": {},
   "outputs": [],
   "source": [
    "string = 'student1,93,78,82,83,65,23,34,87'\n",
    "name, *grades = string.split(',')"
   ]
  },
  {
   "cell_type": "code",
   "execution_count": 71,
   "id": "080ec76d",
   "metadata": {},
   "outputs": [
    {
     "name": "stdout",
     "output_type": "stream",
     "text": [
      "student1 ['93', '78', '82', '83', '65', '23', '34', '87']\n"
     ]
    }
   ],
   "source": [
    "print(name, grades)"
   ]
  },
  {
   "cell_type": "code",
   "execution_count": 72,
   "id": "8570fb97",
   "metadata": {},
   "outputs": [
    {
     "name": "stdout",
     "output_type": "stream",
     "text": [
      "[93, 78, 82, 83, 65, 23, 34, 87]\n"
     ]
    }
   ],
   "source": [
    "grades_converted = []\n",
    "for grade in grades:\n",
    "    grades_converted.append(int(grade))\n",
    "    \n",
    "print(grades_converted)"
   ]
  },
  {
   "cell_type": "code",
   "execution_count": 73,
   "id": "ba4cb393",
   "metadata": {},
   "outputs": [
    {
     "data": {
      "text/plain": [
       "68.125"
      ]
     },
     "execution_count": 73,
     "metadata": {},
     "output_type": "execute_result"
    }
   ],
   "source": [
    "sum(grades_converted)/len(grades_converted)"
   ]
  },
  {
   "cell_type": "code",
   "execution_count": null,
   "id": "072390a2",
   "metadata": {},
   "outputs": [],
   "source": []
  }
 ],
 "metadata": {
  "kernelspec": {
   "display_name": "Python 3 (ipykernel)",
   "language": "python",
   "name": "python3"
  },
  "language_info": {
   "codemirror_mode": {
    "name": "ipython",
    "version": 3
   },
   "file_extension": ".py",
   "mimetype": "text/x-python",
   "name": "python",
   "nbconvert_exporter": "python",
   "pygments_lexer": "ipython3",
   "version": "3.8.16"
  }
 },
 "nbformat": 4,
 "nbformat_minor": 5
}
