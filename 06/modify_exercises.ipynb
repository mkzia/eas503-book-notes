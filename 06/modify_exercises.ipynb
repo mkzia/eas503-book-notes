{
 "cells": [
  {
   "cell_type": "code",
   "execution_count": 2,
   "id": "b458e610",
   "metadata": {},
   "outputs": [
    {
     "name": "stdout",
     "output_type": "stream",
     "text": [
      "1\n",
      "2\n",
      "3\n",
      "4\n",
      "6\n",
      "7\n",
      "8\n",
      "9\n",
      "11\n",
      "12\n",
      "13\n",
      "14\n",
      "16\n",
      "17\n",
      "18\n",
      "19\n",
      "21\n",
      "22\n",
      "23\n",
      "24\n",
      "26\n",
      "27\n",
      "28\n",
      "29\n",
      "31\n",
      "32\n",
      "33\n",
      "34\n",
      "36\n",
      "37\n",
      "38\n",
      "39\n",
      "41\n",
      "42\n",
      "43\n",
      "44\n",
      "46\n",
      "47\n",
      "48\n",
      "49\n"
     ]
    }
   ],
   "source": [
    "def modify_loop_ex1(n):\n",
    "    for number in range(n):\n",
    "\n",
    "        if number % 5 == 0:\n",
    "#             print('Skipping:', number)\n",
    "            continue\n",
    "\n",
    "        print(number)\n",
    "        \n",
    "modify_loop_ex1(50)"
   ]
  },
  {
   "cell_type": "code",
   "execution_count": 8,
   "id": "83e466f9",
   "metadata": {},
   "outputs": [],
   "source": [
    "def modify_loop_ex2(n):\n",
    "\n",
    "    iteration_count = 0\n",
    "    number = 1\n",
    "    while number <= n:\n",
    "        if number == 50:\n",
    "            print('Break while loop')\n",
    "            break\n",
    "        print(number)\n",
    "        number += 1\n",
    "        iteration_count += 1\n",
    "    print('I am here now')"
   ]
  },
  {
   "cell_type": "code",
   "execution_count": 9,
   "id": "6588953c",
   "metadata": {},
   "outputs": [
    {
     "name": "stdout",
     "output_type": "stream",
     "text": [
      "1\n",
      "2\n",
      "3\n",
      "4\n",
      "5\n",
      "6\n",
      "7\n",
      "8\n",
      "9\n",
      "10\n",
      "11\n",
      "12\n",
      "13\n",
      "14\n",
      "15\n",
      "16\n",
      "17\n",
      "18\n",
      "19\n",
      "20\n",
      "21\n",
      "22\n",
      "23\n",
      "24\n",
      "25\n",
      "26\n",
      "27\n",
      "28\n",
      "29\n",
      "30\n",
      "31\n",
      "32\n",
      "33\n",
      "34\n",
      "35\n",
      "36\n",
      "37\n",
      "38\n",
      "39\n",
      "40\n",
      "41\n",
      "42\n",
      "43\n",
      "44\n",
      "45\n",
      "46\n",
      "47\n",
      "48\n",
      "49\n",
      "Break while loop\n",
      "I am here now\n"
     ]
    }
   ],
   "source": [
    "modify_loop_ex2(100)"
   ]
  },
  {
   "cell_type": "code",
   "execution_count": 11,
   "id": "43b338ef",
   "metadata": {},
   "outputs": [
    {
     "name": "stdout",
     "output_type": "stream",
     "text": [
      "1\n",
      "2\n",
      "3\n",
      "4\n"
     ]
    }
   ],
   "source": [
    "def modify_loop_ex1(n):\n",
    "    for number in range(1, n):\n",
    "\n",
    "        if number % 5 == 0:\n",
    "            break\n",
    "\n",
    "        print(number)\n",
    "        \n",
    "modify_loop_ex1(50)"
   ]
  },
  {
   "cell_type": "code",
   "execution_count": 13,
   "id": "7b4b3d58",
   "metadata": {},
   "outputs": [
    {
     "ename": "ValueError",
     "evalue": "invalid literal for int() with base 10: ''",
     "output_type": "error",
     "traceback": [
      "\u001b[1;31m---------------------------------------------------------------------------\u001b[0m",
      "\u001b[1;31mValueError\u001b[0m                                Traceback (most recent call last)",
      "\u001b[1;32m~\\AppData\\Local\\Temp\\ipykernel_25892\\2065118241.py\u001b[0m in \u001b[0;36m<module>\u001b[1;34m\u001b[0m\n\u001b[0;32m      5\u001b[0m \u001b[1;31m#         if not line.strip():\u001b[0m\u001b[1;33m\u001b[0m\u001b[1;33m\u001b[0m\u001b[1;33m\u001b[0m\u001b[0m\n\u001b[0;32m      6\u001b[0m \u001b[1;31m#             continue\u001b[0m\u001b[1;33m\u001b[0m\u001b[1;33m\u001b[0m\u001b[1;33m\u001b[0m\u001b[0m\n\u001b[1;32m----> 7\u001b[1;33m         \u001b[0mvalues\u001b[0m\u001b[1;33m.\u001b[0m\u001b[0mappend\u001b[0m\u001b[1;33m(\u001b[0m\u001b[0mint\u001b[0m\u001b[1;33m(\u001b[0m\u001b[0mline\u001b[0m\u001b[1;33m.\u001b[0m\u001b[0mstrip\u001b[0m\u001b[1;33m(\u001b[0m\u001b[1;33m)\u001b[0m\u001b[1;33m)\u001b[0m\u001b[1;33m)\u001b[0m\u001b[1;33m\u001b[0m\u001b[1;33m\u001b[0m\u001b[0m\n\u001b[0m\u001b[0;32m      8\u001b[0m \u001b[1;33m\u001b[0m\u001b[0m\n\u001b[0;32m      9\u001b[0m \u001b[0mprint\u001b[0m\u001b[1;33m(\u001b[0m\u001b[1;34mf'The average is {sum(values)/len(values)}'\u001b[0m\u001b[1;33m)\u001b[0m\u001b[1;33m\u001b[0m\u001b[1;33m\u001b[0m\u001b[0m\n",
      "\u001b[1;31mValueError\u001b[0m: invalid literal for int() with base 10: ''"
     ]
    }
   ],
   "source": [
    "filename = 'modify_loop_ex3_data.txt'\n",
    "values = []\n",
    "with open(filename) as file:\n",
    "    for line in file:\n",
    "#         if not line.strip():\n",
    "#             continue\n",
    "        values.append(int(line.strip()))\n",
    "        \n",
    "print(f'The average is {sum(values)/len(values)}')\n"
   ]
  },
  {
   "cell_type": "code",
   "execution_count": null,
   "id": "2c038c44",
   "metadata": {},
   "outputs": [],
   "source": []
  }
 ],
 "metadata": {
  "kernelspec": {
   "display_name": "Python 3 (ipykernel)",
   "language": "python",
   "name": "python3"
  },
  "language_info": {
   "codemirror_mode": {
    "name": "ipython",
    "version": 3
   },
   "file_extension": ".py",
   "mimetype": "text/x-python",
   "name": "python",
   "nbconvert_exporter": "python",
   "pygments_lexer": "ipython3",
   "version": "3.8.16"
  }
 },
 "nbformat": 4,
 "nbformat_minor": 5
}
