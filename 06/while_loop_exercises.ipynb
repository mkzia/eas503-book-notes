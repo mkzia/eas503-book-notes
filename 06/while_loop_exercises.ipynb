{
 "cells": [
  {
   "cell_type": "code",
   "execution_count": 4,
   "id": "98af1e18",
   "metadata": {},
   "outputs": [
    {
     "name": "stdout",
     "output_type": "stream",
     "text": [
      "Please enter a number: 5\n",
      "Please enter a number: 10\n",
      "Please enter a number: 15\n",
      "Please enter a number: \n"
     ]
    },
    {
     "data": {
      "text/plain": [
       "10.0"
      ]
     },
     "execution_count": 4,
     "metadata": {},
     "output_type": "execute_result"
    }
   ],
   "source": [
    "def calc_avg():\n",
    "\n",
    "    response = (input('Please enter a number: '))\n",
    "    total = 0\n",
    "    count = 0\n",
    "\n",
    "    while(response):\n",
    "        number = int(response)\n",
    "        total += number\n",
    "        count += 1\n",
    "\n",
    "        response = (input('Please enter a number: '))\n",
    "\n",
    "    average = total / count\n",
    "    \n",
    "    return average\n",
    "\n",
    "calc_avg()"
   ]
  },
  {
   "cell_type": "code",
   "execution_count": 5,
   "id": "409c7c43",
   "metadata": {},
   "outputs": [
    {
     "name": "stdout",
     "output_type": "stream",
     "text": [
      "Enter an integer number: 20\n",
      "0\n",
      "2\n",
      "4\n",
      "6\n",
      "8\n",
      "10\n",
      "12\n",
      "14\n",
      "16\n",
      "18\n",
      "20\n"
     ]
    }
   ],
   "source": [
    "end_number = int(input('Enter an integer number: '))\n",
    "current_number = 0\n",
    "while current_number <= end_number:\n",
    "    if current_number % 2 == 0:\n",
    "        print(current_number)\n",
    "    current_number += 1"
   ]
  },
  {
   "cell_type": "code",
   "execution_count": null,
   "id": "d2ee1d88",
   "metadata": {},
   "outputs": [],
   "source": []
  }
 ],
 "metadata": {
  "kernelspec": {
   "display_name": "Python 3 (ipykernel)",
   "language": "python",
   "name": "python3"
  },
  "language_info": {
   "codemirror_mode": {
    "name": "ipython",
    "version": 3
   },
   "file_extension": ".py",
   "mimetype": "text/x-python",
   "name": "python",
   "nbconvert_exporter": "python",
   "pygments_lexer": "ipython3",
   "version": "3.8.16"
  }
 },
 "nbformat": 4,
 "nbformat_minor": 5
}
