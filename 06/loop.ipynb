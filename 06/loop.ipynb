{
 "cells": [
  {
   "cell_type": "code",
   "execution_count": 3,
   "id": "718e3e91",
   "metadata": {},
   "outputs": [],
   "source": [
    "# range(start, stop, step)\n",
    "x = range(0,11,1)"
   ]
  },
  {
   "cell_type": "code",
   "execution_count": 4,
   "id": "e60daf77",
   "metadata": {},
   "outputs": [
    {
     "name": "stdout",
     "output_type": "stream",
     "text": [
      "range(0, 11)\n"
     ]
    }
   ],
   "source": [
    "print(x)"
   ]
  },
  {
   "cell_type": "code",
   "execution_count": 12,
   "id": "3844c712",
   "metadata": {},
   "outputs": [],
   "source": [
    "x = list(x)"
   ]
  },
  {
   "cell_type": "code",
   "execution_count": 13,
   "id": "27c8139d",
   "metadata": {},
   "outputs": [
    {
     "data": {
      "text/plain": [
       "[0, 1, 2, 3, 4, 5, 6, 7, 8, 9, 10]"
      ]
     },
     "execution_count": 13,
     "metadata": {},
     "output_type": "execute_result"
    }
   ],
   "source": [
    "x"
   ]
  },
  {
   "cell_type": "code",
   "execution_count": 14,
   "id": "e34e8097",
   "metadata": {},
   "outputs": [
    {
     "data": {
      "text/plain": [
       "[0, 1, 2, 3, 4, 5, 6, 7, 8, 9, 10]"
      ]
     },
     "execution_count": 14,
     "metadata": {},
     "output_type": "execute_result"
    }
   ],
   "source": [
    "list(range(11))"
   ]
  },
  {
   "cell_type": "code",
   "execution_count": 15,
   "id": "ecef23fe",
   "metadata": {},
   "outputs": [
    {
     "data": {
      "text/plain": [
       "[0, 2, 4, 6, 8, 10]"
      ]
     },
     "execution_count": 15,
     "metadata": {},
     "output_type": "execute_result"
    }
   ],
   "source": [
    "list(range(0, 11, 2))"
   ]
  },
  {
   "cell_type": "code",
   "execution_count": 18,
   "id": "97f5d866",
   "metadata": {},
   "outputs": [
    {
     "name": "stdout",
     "output_type": "stream",
     "text": [
      "0\n",
      "1\n",
      "2\n",
      "3\n",
      "4\n"
     ]
    }
   ],
   "source": [
    "values = [4, 10, 3, 8, -6]\n",
    "for i in range(len(values)):\n",
    "    print(i)"
   ]
  },
  {
   "cell_type": "code",
   "execution_count": 16,
   "id": "829cb748",
   "metadata": {},
   "outputs": [
    {
     "name": "stdout",
     "output_type": "stream",
     "text": [
      "5\n"
     ]
    }
   ],
   "source": [
    "values = [4, 10, 3, 8, -6]\n",
    "print(len(values))"
   ]
  },
  {
   "cell_type": "code",
   "execution_count": 17,
   "id": "8dda0618",
   "metadata": {},
   "outputs": [
    {
     "data": {
      "text/plain": [
       "[0, 1, 2, 3, 4]"
      ]
     },
     "execution_count": 17,
     "metadata": {},
     "output_type": "execute_result"
    }
   ],
   "source": [
    "list(range(5))"
   ]
  },
  {
   "cell_type": "code",
   "execution_count": 19,
   "id": "854ceb1b",
   "metadata": {},
   "outputs": [
    {
     "name": "stdout",
     "output_type": "stream",
     "text": [
      "0 4\n",
      "1 10\n",
      "2 3\n",
      "3 8\n",
      "4 -6\n"
     ]
    }
   ],
   "source": [
    "values = [4, 10, 3, 8, -6]\n",
    "for i in range(len(values)):\n",
    "    print(i, values[i])"
   ]
  },
  {
   "cell_type": "code",
   "execution_count": 20,
   "id": "dbd6df91",
   "metadata": {},
   "outputs": [
    {
     "name": "stdout",
     "output_type": "stream",
     "text": [
      "4\n",
      "10\n",
      "3\n",
      "8\n",
      "-6\n"
     ]
    }
   ],
   "source": [
    "values = [4, 10, 3, 8, -6]\n",
    "for value in(values):\n",
    "    print(value)"
   ]
  },
  {
   "cell_type": "code",
   "execution_count": 28,
   "id": "5038efcc",
   "metadata": {},
   "outputs": [
    {
     "name": "stdout",
     "output_type": "stream",
     "text": [
      "0 4\n",
      "1 10\n",
      "2 3\n",
      "3 8\n",
      "4 -6\n"
     ]
    }
   ],
   "source": [
    "values = [4, 10, 3, 8, -6]\n",
    "for index, value in enumerate(values):\n",
    "    print(index, value)"
   ]
  },
  {
   "cell_type": "code",
   "execution_count": 24,
   "id": "341c83ee",
   "metadata": {},
   "outputs": [
    {
     "data": {
      "text/plain": [
       "<enumerate at 0x251bd96db80>"
      ]
     },
     "execution_count": 24,
     "metadata": {},
     "output_type": "execute_result"
    }
   ],
   "source": [
    "enumerate(values) # generator, they generate value for one time usage"
   ]
  },
  {
   "cell_type": "code",
   "execution_count": 25,
   "id": "70dc2701",
   "metadata": {},
   "outputs": [
    {
     "name": "stdout",
     "output_type": "stream",
     "text": [
      "[(0, 4), (1, 10), (2, 3), (3, 8), (4, -6)]\n"
     ]
    }
   ],
   "source": [
    "x = list(enumerate(values))\n",
    "print(x)"
   ]
  },
  {
   "cell_type": "code",
   "execution_count": 26,
   "id": "9aba94c1",
   "metadata": {},
   "outputs": [],
   "source": [
    "index, value = (0, 4)"
   ]
  },
  {
   "cell_type": "code",
   "execution_count": 27,
   "id": "f493e2e2",
   "metadata": {},
   "outputs": [
    {
     "name": "stdout",
     "output_type": "stream",
     "text": [
      "0 4\n"
     ]
    }
   ],
   "source": [
    "print(index, value)"
   ]
  },
  {
   "cell_type": "code",
   "execution_count": 29,
   "id": "73482e7e",
   "metadata": {},
   "outputs": [
    {
     "name": "stdout",
     "output_type": "stream",
     "text": [
      "(0, 4)\n",
      "(1, 10)\n",
      "(2, 3)\n",
      "(3, 8)\n",
      "(4, -6)\n"
     ]
    }
   ],
   "source": [
    "vals = enumerate(values)\n",
    "for val in vals:\n",
    "    print(val)"
   ]
  },
  {
   "cell_type": "code",
   "execution_count": 30,
   "id": "793410d9",
   "metadata": {},
   "outputs": [],
   "source": [
    "for val in vals:\n",
    "    print(val)"
   ]
  },
  {
   "cell_type": "code",
   "execution_count": 31,
   "id": "3a2df4a6",
   "metadata": {},
   "outputs": [],
   "source": [
    "for val in []:\n",
    "    print(val)"
   ]
  },
  {
   "cell_type": "code",
   "execution_count": 34,
   "id": "1588b2f8",
   "metadata": {},
   "outputs": [
    {
     "name": "stdout",
     "output_type": "stream",
     "text": [
      "[(0, 4), (1, 10), (2, 3), (3, 8), (4, -6)]\n"
     ]
    }
   ],
   "source": [
    "vals = list(enumerate(values))\n",
    "print(vals)"
   ]
  },
  {
   "cell_type": "code",
   "execution_count": 35,
   "id": "e9e1476a",
   "metadata": {},
   "outputs": [
    {
     "name": "stdout",
     "output_type": "stream",
     "text": [
      "(0, 4)\n",
      "(1, 10)\n",
      "(2, 3)\n",
      "(3, 8)\n",
      "(4, -6)\n"
     ]
    }
   ],
   "source": [
    "for val in vals:\n",
    "    print(val)"
   ]
  },
  {
   "cell_type": "code",
   "execution_count": 36,
   "id": "3b59f63e",
   "metadata": {},
   "outputs": [
    {
     "name": "stdout",
     "output_type": "stream",
     "text": [
      "(0, 4)\n",
      "(1, 10)\n",
      "(2, 3)\n",
      "(3, 8)\n",
      "(4, -6)\n"
     ]
    }
   ],
   "source": [
    "for val in vals:\n",
    "    print(val)"
   ]
  },
  {
   "cell_type": "code",
   "execution_count": 37,
   "id": "b37c8b4d",
   "metadata": {},
   "outputs": [
    {
     "name": "stdout",
     "output_type": "stream",
     "text": [
      "0 4\n",
      "1 10\n",
      "2 3\n",
      "3 8\n",
      "4 -6\n"
     ]
    }
   ],
   "source": [
    "for index, value in enumerate(values):\n",
    "    print(index, value)"
   ]
  },
  {
   "cell_type": "code",
   "execution_count": 38,
   "id": "c04e6de8",
   "metadata": {},
   "outputs": [
    {
     "name": "stdout",
     "output_type": "stream",
     "text": [
      "4\n",
      "10\n",
      "3\n",
      "8\n",
      "-6\n"
     ]
    }
   ],
   "source": [
    "for value in values:\n",
    "    print(value)"
   ]
  },
  {
   "cell_type": "code",
   "execution_count": 39,
   "id": "57442646",
   "metadata": {},
   "outputs": [
    {
     "name": "stdout",
     "output_type": "stream",
     "text": [
      "1 4\n",
      "2 10\n",
      "3 3\n",
      "4 8\n",
      "5 -6\n"
     ]
    }
   ],
   "source": [
    "for index, value in enumerate(values, 1):\n",
    "    print(index, value)"
   ]
  },
  {
   "cell_type": "code",
   "execution_count": 40,
   "id": "662ab29c",
   "metadata": {},
   "outputs": [],
   "source": [
    "values = [4, 10, 3, 8, -6]\n",
    "for i in range(len(values)):\n",
    "    values[i] = values[i] * 2"
   ]
  },
  {
   "cell_type": "code",
   "execution_count": 41,
   "id": "0ec69d8a",
   "metadata": {},
   "outputs": [
    {
     "data": {
      "text/plain": [
       "[8, 20, 6, 16, -12]"
      ]
     },
     "execution_count": 41,
     "metadata": {},
     "output_type": "execute_result"
    }
   ],
   "source": [
    "values"
   ]
  },
  {
   "cell_type": "code",
   "execution_count": 42,
   "id": "0e41a010",
   "metadata": {},
   "outputs": [
    {
     "name": "stdout",
     "output_type": "stream",
     "text": [
      "Li 6.941\n",
      "Na 22.98976928\n",
      "K 39.0983\n"
     ]
    }
   ],
   "source": [
    "metals = ['Li', 'Na', 'K']\n",
    "weights = [6.941, 22.98976928, 39.0983]\n",
    "for i in range(len(metals)):\n",
    "    print(metals[i], weights[i])"
   ]
  },
  {
   "cell_type": "code",
   "execution_count": 43,
   "id": "7ef06330",
   "metadata": {},
   "outputs": [
    {
     "name": "stdout",
     "output_type": "stream",
     "text": [
      "Li 6.941\n",
      "Na 22.98976928\n",
      "K 39.0983\n"
     ]
    }
   ],
   "source": [
    "metals = ['Li', 'Na', 'K']\n",
    "weights = [6.941, 22.98976928, 39.0983]\n",
    "for metal, weight in zip(metals, weights):\n",
    "    print(metal, weight)"
   ]
  },
  {
   "cell_type": "code",
   "execution_count": 44,
   "id": "f5f557d2",
   "metadata": {},
   "outputs": [
    {
     "data": {
      "text/plain": [
       "<zip at 0x251bd971fc0>"
      ]
     },
     "execution_count": 44,
     "metadata": {},
     "output_type": "execute_result"
    }
   ],
   "source": [
    "zip(metals, weights)"
   ]
  },
  {
   "cell_type": "code",
   "execution_count": 45,
   "id": "7db357a8",
   "metadata": {},
   "outputs": [],
   "source": [
    "x = zip(metals, weights)"
   ]
  },
  {
   "cell_type": "code",
   "execution_count": 46,
   "id": "04c60027",
   "metadata": {},
   "outputs": [
    {
     "name": "stdout",
     "output_type": "stream",
     "text": [
      "('Li', 6.941)\n",
      "('Na', 22.98976928)\n",
      "('K', 39.0983)\n"
     ]
    }
   ],
   "source": [
    "for v in x:\n",
    "    print(v)"
   ]
  },
  {
   "cell_type": "code",
   "execution_count": 47,
   "id": "c51c007d",
   "metadata": {},
   "outputs": [],
   "source": [
    "for v in x:\n",
    "    print(v)"
   ]
  },
  {
   "cell_type": "code",
   "execution_count": null,
   "id": "dad91b5e",
   "metadata": {},
   "outputs": [],
   "source": [
    "# range -- iterator -- can be used many times\n",
    "# enumerate -- generator -- one time use\n",
    "# zip -- generator -- one time use"
   ]
  },
  {
   "cell_type": "code",
   "execution_count": 48,
   "id": "2613eda6",
   "metadata": {},
   "outputs": [
    {
     "name": "stdout",
     "output_type": "stream",
     "text": [
      "('Li', 6.941)\n",
      "('Na', 22.98976928)\n",
      "('K', 39.0983)\n"
     ]
    }
   ],
   "source": [
    "x = tuple(zip(metals, weights))\n",
    "for v in x:\n",
    "    print(v)"
   ]
  },
  {
   "cell_type": "code",
   "execution_count": 49,
   "id": "8b61c41b",
   "metadata": {},
   "outputs": [
    {
     "name": "stdout",
     "output_type": "stream",
     "text": [
      "('Li', 6.941)\n",
      "('Na', 22.98976928)\n",
      "('K', 39.0983)\n"
     ]
    }
   ],
   "source": [
    "for v in x:\n",
    "    print(v)"
   ]
  },
  {
   "cell_type": "code",
   "execution_count": 50,
   "id": "f259757e",
   "metadata": {},
   "outputs": [
    {
     "name": "stdout",
     "output_type": "stream",
     "text": [
      "Li\n",
      "Na\n",
      "K\n",
      "F\n",
      "Cl\n",
      "Br\n"
     ]
    }
   ],
   "source": [
    "elements = [['Li', 'Na', 'K'], ['F', 'Cl', 'Br']]\n",
    "for inner_list in elements:\n",
    "    for item in inner_list:\n",
    "        print(item)"
   ]
  },
  {
   "cell_type": "code",
   "execution_count": 51,
   "id": "5da3f28e",
   "metadata": {},
   "outputs": [
    {
     "name": "stdout",
     "output_type": "stream",
     "text": [
      "['Isaac Newton', 1643, 1727] 3\n",
      "['Charles Darwin', 1809, 1882] 3\n",
      "['Alan Turing', 1912, 1954, 'alan@bletchley.uk'] 4\n"
     ]
    }
   ],
   "source": [
    "info = [\n",
    "    ['Isaac Newton', 1643, 1727],\n",
    "    ['Charles Darwin', 1809, 1882],\n",
    "    ['Alan Turing', 1912, 1954, 'alan@bletchley.uk']\n",
    "]\n",
    "for item in info:\n",
    "    print(item, len(item))"
   ]
  },
  {
   "cell_type": "code",
   "execution_count": 52,
   "id": "41e3db77",
   "metadata": {},
   "outputs": [],
   "source": [
    "x = [1, 7, 3]\n",
    "\n",
    "sum = 0\n",
    "for ele in x:\n",
    "    sum = sum *10 + ele"
   ]
  },
  {
   "cell_type": "code",
   "execution_count": 53,
   "id": "ae495d51",
   "metadata": {},
   "outputs": [
    {
     "name": "stdout",
     "output_type": "stream",
     "text": [
      "173\n"
     ]
    }
   ],
   "source": [
    "print(sum)"
   ]
  },
  {
   "cell_type": "code",
   "execution_count": 54,
   "id": "575f6de4",
   "metadata": {},
   "outputs": [
    {
     "name": "stdout",
     "output_type": "stream",
     "text": [
      "1134000234 0001123344 4433211000\n"
     ]
    }
   ],
   "source": [
    "string1 = '1134000234'\n",
    "string2 = ''.join(sorted([ele for ele in string1]))\n",
    "string3 = ''.join(sorted([ele for ele in string1], reverse=True))\n",
    "print(string1, string2, string3)"
   ]
  },
  {
   "cell_type": "code",
   "execution_count": 55,
   "id": "4123af49",
   "metadata": {},
   "outputs": [
    {
     "name": "stdout",
     "output_type": "stream",
     "text": [
      "[3, 2, 1, 2, 2, 0, 0, 0, 0, 0]\n"
     ]
    }
   ],
   "source": [
    "store = [0] * 10\n",
    "\n",
    "for char in string1:\n",
    "    index = int(char)\n",
    "    store[index] += 1\n",
    "\n",
    "print(store)"
   ]
  },
  {
   "cell_type": "code",
   "execution_count": 57,
   "id": "7ba2b5df",
   "metadata": {},
   "outputs": [
    {
     "name": "stdout",
     "output_type": "stream",
     "text": [
      "0001123344\n"
     ]
    }
   ],
   "source": [
    "sorted_string = ''\n",
    "for idx, ele in enumerate(store):\n",
    "    sorted_string += str(idx) * ele\n",
    "print(sorted_string)"
   ]
  },
  {
   "cell_type": "code",
   "execution_count": 58,
   "id": "f178fc31",
   "metadata": {},
   "outputs": [
    {
     "data": {
      "text/plain": [
       "'4433211000'"
      ]
     },
     "execution_count": 58,
     "metadata": {},
     "output_type": "execute_result"
    }
   ],
   "source": [
    "sorted_string[::-1]"
   ]
  },
  {
   "cell_type": "code",
   "execution_count": 59,
   "id": "8cc04fcb",
   "metadata": {},
   "outputs": [],
   "source": [
    "x = '    '"
   ]
  },
  {
   "cell_type": "code",
   "execution_count": 60,
   "id": "c94bef35",
   "metadata": {},
   "outputs": [
    {
     "data": {
      "text/plain": [
       "''"
      ]
     },
     "execution_count": 60,
     "metadata": {},
     "output_type": "execute_result"
    }
   ],
   "source": [
    "x.strip()"
   ]
  },
  {
   "cell_type": "code",
   "execution_count": 61,
   "id": "b5991538",
   "metadata": {},
   "outputs": [
    {
     "name": "stdout",
     "output_type": "stream",
     "text": [
      "x is empty\n"
     ]
    }
   ],
   "source": [
    "if not x.strip():\n",
    "    print('x is empty')\n",
    "    "
   ]
  },
  {
   "cell_type": "code",
   "execution_count": null,
   "id": "44731163",
   "metadata": {},
   "outputs": [],
   "source": [
    "line = '12.o'\n",
    "\n",
    "try:\n",
    "    value = float(line)\n",
    "except:\n",
    "    continue\n",
    "    \n",
    "###"
   ]
  }
 ],
 "metadata": {
  "kernelspec": {
   "display_name": "Python 3 (ipykernel)",
   "language": "python",
   "name": "python3"
  },
  "language_info": {
   "codemirror_mode": {
    "name": "ipython",
    "version": 3
   },
   "file_extension": ".py",
   "mimetype": "text/x-python",
   "name": "python",
   "nbconvert_exporter": "python",
   "pygments_lexer": "ipython3",
   "version": "3.8.16"
  }
 },
 "nbformat": 4,
 "nbformat_minor": 5
}
