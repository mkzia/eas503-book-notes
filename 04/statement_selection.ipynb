{
 "cells": [
  {
   "cell_type": "code",
   "execution_count": 1,
   "id": "c91ddf77",
   "metadata": {},
   "outputs": [
    {
     "name": "stdout",
     "output_type": "stream",
     "text": [
      "Enter the pH level: 4\n",
      "4.0  is acidic.\n"
     ]
    }
   ],
   "source": [
    "ph = float(input('Enter the pH level: '))\n",
    "if ph < 7.0:\n",
    "    print(ph, \" is acidic.\") #indentation important"
   ]
  },
  {
   "cell_type": "code",
   "execution_count": 5,
   "id": "4a22b5af",
   "metadata": {},
   "outputs": [
    {
     "name": "stdout",
     "output_type": "stream",
     "text": [
      "Enter the pH level: 11\n",
      "11.0  is basic.\n"
     ]
    }
   ],
   "source": [
    "ph = float(input('Enter the pH level: '))\n",
    "if ph < 7.0:\n",
    "    ph = 8.0 #indentation important\n",
    "if ph > 7.0:\n",
    "    print(ph, \" is basic.\") "
   ]
  },
  {
   "cell_type": "code",
   "execution_count": null,
   "id": "52442a40",
   "metadata": {},
   "outputs": [],
   "source": [
    "ph = float(input('Enter the pH level: '))\n",
    "if ph < 7.0:\n",
    "    ph = 8.0  #indentation important\n",
    "    print(ph, \" is basic.\") #\n",
    "elif ph > 7.0:\n",
    "    print(ph, \" is basic.\") "
   ]
  },
  {
   "cell_type": "code",
   "execution_count": 8,
   "id": "29d6031b",
   "metadata": {},
   "outputs": [
    {
     "name": "stdout",
     "output_type": "stream",
     "text": [
      "Enter the compound: ABC\n",
      "Unknown compound\n"
     ]
    }
   ],
   "source": [
    "compound = input('Enter the compound: ')\n",
    "if compound == 'H2O':\n",
    "    print('Water')\n",
    "elif compound == 'NH3':\n",
    "    print('Ammonia')\n",
    "elif compound == 'CH4':\n",
    "    print('Methane')\n",
    "else:\n",
    "    print('Unknown compound')"
   ]
  },
  {
   "cell_type": "code",
   "execution_count": 11,
   "id": "ed9f3352",
   "metadata": {},
   "outputs": [
    {
     "name": "stdout",
     "output_type": "stream",
     "text": [
      "Enter the pH level: \n",
      "No pH value was given!\n"
     ]
    }
   ],
   "source": [
    "value = input('Enter the pH level: ')\n",
    "if len(value) > 0:\n",
    "    ph = float(value) \n",
    "    if ph < 7.0:\n",
    "        print(ph, \" is acidic.\")\n",
    "    elif ph > 7.0:\n",
    "        print(ph, \" is basic.\")\n",
    "    else:\n",
    "        print(ph, \" is neutral.\")\n",
    "\n",
    "else:\n",
    "    print('No pH value was given!')"
   ]
  },
  {
   "cell_type": "code",
   "execution_count": 9,
   "id": "fff36319",
   "metadata": {},
   "outputs": [],
   "source": [
    "my_str = ''"
   ]
  },
  {
   "cell_type": "code",
   "execution_count": 10,
   "id": "be3b323c",
   "metadata": {},
   "outputs": [
    {
     "data": {
      "text/plain": [
       "0"
      ]
     },
     "execution_count": 10,
     "metadata": {},
     "output_type": "execute_result"
    }
   ],
   "source": [
    "len(my_str)"
   ]
  },
  {
   "cell_type": "code",
   "execution_count": null,
   "id": "54bcfee4",
   "metadata": {},
   "outputs": [],
   "source": [
    "value = input('Enter the pH level: ')\n",
    "if value:\n",
    "    ph = float(value) \n",
    "    if ph < 7.0:\n",
    "        print(ph, \" is acidic.\")\n",
    "    elif ph > 7.0:\n",
    "        print(ph, \" is basic.\")\n",
    "    else:\n",
    "        print(ph, \" is neutral.\")\n",
    "\n",
    "else:\n",
    "    print('No pH value was given!')"
   ]
  },
  {
   "cell_type": "code",
   "execution_count": 12,
   "id": "5deb3f50",
   "metadata": {},
   "outputs": [
    {
     "name": "stdout",
     "output_type": "stream",
     "text": [
      "False\n"
     ]
    }
   ],
   "source": [
    "value = ''\n",
    "if value:\n",
    "    print(True)\n",
    "else:\n",
    "    print(False)"
   ]
  },
  {
   "cell_type": "code",
   "execution_count": 13,
   "id": "10961db1",
   "metadata": {},
   "outputs": [
    {
     "name": "stdout",
     "output_type": "stream",
     "text": [
      "True\n"
     ]
    }
   ],
   "source": [
    "value = '1'\n",
    "if value:\n",
    "    print(True)\n",
    "else:\n",
    "    print(False)"
   ]
  },
  {
   "cell_type": "code",
   "execution_count": 14,
   "id": "c0278ae0",
   "metadata": {},
   "outputs": [
    {
     "name": "stdout",
     "output_type": "stream",
     "text": [
      "True\n"
     ]
    }
   ],
   "source": [
    "value = 1\n",
    "if value:\n",
    "    print(True)\n",
    "else:\n",
    "    print(False)"
   ]
  },
  {
   "cell_type": "code",
   "execution_count": 15,
   "id": "d03ca54f",
   "metadata": {},
   "outputs": [
    {
     "name": "stdout",
     "output_type": "stream",
     "text": [
      "False\n"
     ]
    }
   ],
   "source": [
    "value = 0\n",
    "if value:\n",
    "    print(True)\n",
    "else:\n",
    "    print(False)"
   ]
  },
  {
   "cell_type": "code",
   "execution_count": null,
   "id": "a26ea96e",
   "metadata": {},
   "outputs": [],
   "source": [
    "ph = 2\n",
    "if ph < 3.0:\n",
    "    print(ph, ' is VERY acidic! Be careful.')\n",
    "elif ph < 7.0:\n",
    "    print(ph, ' is acidic')\n"
   ]
  },
  {
   "cell_type": "code",
   "execution_count": 16,
   "id": "04fa7434",
   "metadata": {},
   "outputs": [
    {
     "name": "stdout",
     "output_type": "stream",
     "text": [
      "FizzBuzz\n"
     ]
    }
   ],
   "source": [
    "value = 35\n",
    "\n",
    "if value % 7 == 0 and value % 5 == 0:\n",
    "    print('FizzBuzz')\n",
    "elif value % 5 == 0:\n",
    "    print('Fizz')\n",
    "elif value % 7 == 0 :\n",
    "    print('Buzz')"
   ]
  },
  {
   "cell_type": "code",
   "execution_count": 17,
   "id": "f3108a03",
   "metadata": {},
   "outputs": [
    {
     "name": "stdout",
     "output_type": "stream",
     "text": [
      "Fizz\n"
     ]
    }
   ],
   "source": [
    "value = 5\n",
    "\n",
    "if value % 7 == 0 and value % 5 == 0:\n",
    "    print('FizzBuzz')\n",
    "elif value % 5 == 0:\n",
    "    print('Fizz')\n",
    "elif value % 7 == 0 :\n",
    "    print('Buzz')"
   ]
  },
  {
   "cell_type": "code",
   "execution_count": 18,
   "id": "f4bad423",
   "metadata": {},
   "outputs": [
    {
     "name": "stdout",
     "output_type": "stream",
     "text": [
      "Buzz\n"
     ]
    }
   ],
   "source": [
    "value = 7\n",
    "\n",
    "if value % 7 == 0 and value % 5 == 0:\n",
    "    print('FizzBuzz')\n",
    "elif value % 5 == 0:\n",
    "    print('Fizz')\n",
    "elif value % 7 == 0 :\n",
    "    print('Buzz')"
   ]
  },
  {
   "cell_type": "code",
   "execution_count": 21,
   "id": "6873a540",
   "metadata": {},
   "outputs": [
    {
     "name": "stdout",
     "output_type": "stream",
     "text": [
      "Buzz\n"
     ]
    }
   ],
   "source": [
    "value = 35\n",
    "\n",
    "if value % 7 == 0 :\n",
    "    print('Buzz')\n",
    "elif value % 7 == 0 and value % 5 == 0:\n",
    "    print('FizzBuzz')\n",
    "elif value % 5 == 0:\n",
    "    print('Fizz')\n"
   ]
  },
  {
   "cell_type": "code",
   "execution_count": 26,
   "id": "11024e6f",
   "metadata": {},
   "outputs": [],
   "source": [
    "# Implement the min() function for three inputs\n",
    "\n",
    "def my_min():\n",
    "    number1 = int(input('Enter first integer: '))\n",
    "    number2 = int(input('Enter second integer: '))\n",
    "    number3 = int(input('Enter third integer: '))\n",
    "\n",
    "    minimum = number1  # Important\n",
    "\n",
    "    if number2 < minimum:\n",
    "        minimum = number2\n",
    "\n",
    "    if number3 < minimum:\n",
    "        minimum = number3\n",
    "\n",
    "    print('Minimum value is', minimum)"
   ]
  },
  {
   "cell_type": "code",
   "execution_count": 27,
   "id": "15bc9b3e",
   "metadata": {},
   "outputs": [
    {
     "name": "stdout",
     "output_type": "stream",
     "text": [
      "Enter first integer: 10\n",
      "Enter second integer: 9\n",
      "Enter third integer: 8\n",
      "Minimum value is 8\n"
     ]
    }
   ],
   "source": [
    "my_min()"
   ]
  },
  {
   "cell_type": "code",
   "execution_count": null,
   "id": "85ebeccc",
   "metadata": {},
   "outputs": [],
   "source": []
  }
 ],
 "metadata": {
  "kernelspec": {
   "display_name": "Python 3 (ipykernel)",
   "language": "python",
   "name": "python3"
  },
  "language_info": {
   "codemirror_mode": {
    "name": "ipython",
    "version": 3
   },
   "file_extension": ".py",
   "mimetype": "text/x-python",
   "name": "python",
   "nbconvert_exporter": "python",
   "pygments_lexer": "ipython3",
   "version": "3.8.16"
  }
 },
 "nbformat": 4,
 "nbformat_minor": 5
}
